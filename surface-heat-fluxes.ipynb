{
 "cells": [
  {
   "cell_type": "markdown",
   "id": "114441f5",
   "metadata": {},
   "source": [
    "# Lab 8:Investigating Surface Heat Fluxes in the Coastal Ocean \n",
    "![](images/myoceanline.png)"
   ]
  },
  {
   "cell_type": "markdown",
   "id": "c9bd2827",
   "metadata": {},
   "source": [
    "## Lesson Objectives \n",
    "During this lab, you will learn how to\n",
    "\n",
    "- Interpret relationships between oceanic and atmospheric data\n",
    "- Plot sea surface temperature and heat fluxes\n",
    "- Assess the importance of the surface heat fluxes in an ocean temperature budget\n",
    "- Understand the impact of different environmental conditions in bulk heat flux formulas\n",
    "\n",
    "<hr style=\"border:2px solid LightSteelBlue\">"
   ]
  },
  {
   "cell_type": "markdown",
   "id": "bd7e42df",
   "metadata": {},
   "source": [
    "## An Introduction to Heat Fluxes\n",
    "\n",
    "In this section, we define heat flux, discuss the different heat flux components, and introduce the concept of a *bulk formula* to estimate total heat flux.\n",
    "\n",
    "---\n",
    "### Defining the heat flux terms\n",
    "\n",
    "Heat flux is the flow of energy through a surface over a period of time.  Ocean surface heat flux is a critical component of Earth’s climate system.  The impact of global warming due to anthropogenic pollution has had a disproportionately large effect on the world’s oceans; it has been estimated that ~90% of the warming has been absorbed by the oceans. Nearly all oceanic heating is driven by air-sea interaction where incoming solar energy warms the upper ocean and outgoing heat loss cools it.  The primary processes that lead to **heat loss** through the ocean surface are longwave radiation (or ‘back radiation’), latent heat flux, and sensible heat flux.\n",
    "\n",
    "Anything that has a temperature emits electromagnetic radiation.  High temperature sources like the sun emit shortwave radiation, while cooler temperature sources like the ocean give off **longwave radiation**.  When long-wave radiation is emitted from the ocean, it releases heat.  \n",
    "\n",
    "**Latent heat flux** is an energy exchange that occurs between the ocean and atmosphere when water changes state.  Water evaporates from the ocean surface, becoming water vapor in the atmosphere.  This can be thought of as the ocean ‘sweating’.  Humans sweat to cool down (i.e., water evaporates off our skin removing heat from our body) and so does the ocean. As water changes from liquid to vapor, a tremendous amount of energy is released across the air-sea interface. \n",
    "\n",
    "**Sensible heat flux** is heat exchange by conduction.  When two objects with different temperatures are put in contact with each other, heat flows from the hotter object to the colder one. Since the water is typically warmer than the ambient air, heat energy is transferred from the ocean to the atmosphere.\n",
    "\n",
    "![](images/fluxtypes.png)",
    "\n",
    "Figure 1. Fluxes\n",
    "\n",
    "---\n",
    "\n",
    "### Bulk formula for total heat flux\n",
    "\n",
    "Taking direct measurements of heat fluxes in the ocean can be very challenging. Imagine attempting to take careful measurements of evaporated seawater while being rocked around by winds, storms, and waves!  Scientists have addressed this hurdle by developing algorithms, called **bulk formulas**, to serve as proxies in lieu of direct measurements.  A bulk formula roughly captures the intended processes based on environmental properties that are much easier to measure, such as temperature, wind speed, and humidity.  There is a wealth of data, collected from many platforms in and around the ocean, that can provide the necessary elements for calculating heat fluxes. \n",
    "\n",
    "**The total heat flux between the ocean and the atmosphere** can be estimated by the bulk formula\n",
    "\n",
    "$$",
    "Q_t = Q_{in} + Q_b + Q_h + Q_e \\label{eq1}\\tag{1}\n",
    "$$",
    "\n",
    "where\n",
    "\n",
    "| Term | Definition | Unit |\n",
    "| :-: | :-: | :-: |\n",
    "| $Q_t$ | total heat flux | W/m$^2$ | \n",
    "| $Q_{in}$ | incoming solar radiation | W/m$^2$ |\n",
    "| $Q_b$ | long-wave back radiation  | W/m$^2$ |\n",
    "| $Q_h$ | sensible heat flux | W/m$^2$ |\n",
    "| $Q_e$ | latent heat flux, ($e$ for evaporation) | W/m$^2$ |\n",
    "\n",
    "\n",
    "In this lab, we will use the bulk formula to estimate heat fluxes using data from Orange Beach, AL."
   ]
  },
  {
   "cell_type": "markdown",
   "id": "794814f7",
   "metadata": {},
   "source": [
    "<hr style=\"border:2px solid LightSteelBlue\">\n",
    "\n",
    "## Interpreting Surface Temperature Data\n",
    "\n",
    "In this section, you will examine the data file, load and process the data, and create a time series plot of sea surface temperature.\n",
    "\n",
    "---\n",
    "### Time series measurements taken from the Orange Beach buoy\n",
    "\n",
    "The data used in this lab was collected by a NOAA buoy in the Gulf of Mexico that is just offshore of Orange Beach, AL. The data can be viewed in real-time at the NOAA National Buoy Data Center (NBDC): https://www.ndbc.noaa.gov/station_page.php?station=42012 (Fig. 1). The instrumentation on this buoy collects a range of meteorological parameters including those needed for calculating the latent and sensible heat fluxes. The buoy collects data at 2 meters below the surface, which is approximated as the surface of the water column. The depth of the water column at this location is 26 meters.\n",
    "\n",
    "Incoming solar radiation and outgoing long-wave radiation are a bit more difficult to determine and the values are generally taken from a ‘reanalysis dataset’.  Reanalysis datasets are created by combining observations with numerical modeling outputs.  This lab uses data from the North American Regional Reanalysis (NARR) from National Center for Environmental Prediction (NCEP) (https://psl.noaa.gov/data/gridded/data.narr.html). The buoy data and the NARR reanalysis data can be used to understand aspects of the complex relationship between water temperature and air-sea interactions. "
   ]
  },
  {
   "cell_type": "markdown",
   "id": "1d5317c8",
   "metadata": {},
   "source": [
    "![](images/buoy.png)",
    "\n",
    "*Fig. 2 ESRI map, photo of and photos taken from NOAA Buoy #42012 Orange Beach – 44 nm southeast of Mobile, AL. Image courtesy of NOAA.*"
   ]
  },
  {
   "cell_type": "markdown",
   "id": "c0986f21",
   "metadata": {},
   "source": [
    "---\n",
    "### Look at the data file\n",
    "\n",
    "The data used for this lab is called ***orb_buoy_2017.txt***, located in the ***data*** directory.  \n",
    "\n",
    "Before using Python to load the file, open it and take a look.\n",
    "![](images/FromWhere.png)",
    "\n",
    "If you are using **Binder**, click the folder icon in the left hand panel to show a directory listing.  Find ***data/orb_buoy_2017.txt***, and click on it to open the file and view the contents.  If you used **Anaconda** to launch the Jupyter Notebook, it will have opened web browser displays you file directory.  You would have found and clicked on the Surface_Heat_Fluxes.ipynb to run this notebook.  Go to the tab listing the files, find ***data/orb_buoy_2017.txt***, and click on it to view the contents.\n",
    "\n",
    "\n",
    "**Examine the file to check the following:**\n",
    "- Which variables does the file contain and what are the associated units?\n",
    "- When did data collection begin?  When did it end?\n",
    "- How often were the measurements made?  (What is the time difference between measurements?)"
   ]
  },
  {
   "cell_type": "markdown",
   "id": "8345de3a",
   "metadata": {},
   "source": [
    "---\n",
    "### Load the Python libraries and functions\n",
    "\n",
    "All of the functions used in this lab are in a file called ***heatfluxlab.py***, located in the same directory as this notebook. Each of the functions are also defined at the end of the notebook, so you can easily look at or modify them.\n",
    "\n",
    "Run the next cell to import these libraries and functions."
   ]
  },
  {
   "cell_type": "code",
   "execution_count": null,
   "id": "01486b76",
   "metadata": {
    "scrolled": true
   },
   "outputs": [],
   "source": [
    "#Import functions for the lab\n",
    "from heatfluxlab import *"
   ]
  },
  {
   "cell_type": "markdown",
   "id": "55a418a0",
   "metadata": {},
   "source": [
    "---\n",
    "### Read in the file and check the contents\n",
    "\n",
    "In the next cell, `readfile` reads a file called `filename`, which must be a text file in comma separated value (CSV) format and stores the data in a dataframe called `df`. Using `checkdata` will display the column headers and first five rows of the dataset."
   ]
  },
  {
   "cell_type": "code",
   "execution_count": null,
   "id": "a063fa74",
   "metadata": {},
   "outputs": [],
   "source": [
    "#Name of the file\n",
    "filename = \"data/orb_buoy_2017.txt\"\n",
    "#Load the data\n",
    "df = readfile(filename)\n",
    "#Check the contents\n",
    "checkdata(df)"
   ]
  },
  {
   "cell_type": "markdown",
   "id": "a770fbfb",
   "metadata": {},
   "source": [
    "---\n",
    "### Using the data\n",
    "\n",
    "Data is referenced by column name as `df['Column Name']`.  Check this by printing the values of water temperature, `df['Water_Temp(oC)']`.  The output is limited to the first and last five values in the column."
   ]
  },
  {
   "cell_type": "code",
   "execution_count": null,
   "id": "1c4ae13f",
   "metadata": {},
   "outputs": [],
   "source": [
    "df['Water_Temp(oC)']"
   ]
  },
  {
   "cell_type": "markdown",
   "id": "26fe6dd8",
   "metadata": {},
   "source": [
    "---\n",
    "### Contents and column names\n",
    "\n",
    "The column names in our dataset are very descriptive, containing the physical quantity and the units; however, they are not terribly convienient to work with and do not follow standard naming conventions.  We will rename the columns.\n",
    "\n",
    "When working with dataframes, columns are often renamed either for convenience or by necessity.\n",
    "- For convenience: To simplify coding, choose names that are meaningful and conventional while being as short as possible.\n",
    "- For necessity: Check the documentation for the functions you are using.  Date/time objects generally have a convention of year, month, day, hour, minute, second.  Mapping tools may recognize a wide variety of lat/lon conventions, but they usually require consistency across datasets.\n",
    "\n",
    "The data is summarized in the table below, including the original column name, the physical quantity, its units, and the new name we will assign it. \n",
    "\n",
    "| Original Name | Measurement | Units | New Name|\n",
    "| :-: | :-: | :-: | :-: | \n",
    "| Water_Temp(oC) |  water temperature at sea surface | $^{\\circ}$C | sst  |\n",
    "| Air_Temp(oC)\t | air temperature |$^{\\circ}$C  | Ta | \n",
    "| Relative_Humidity(%) |  relative humidity | % |RH |\n",
    "| Atm_Pressure(mb) |  atmospheric pressure | mb (millibars) | atm |\n",
    "| Wind_Speed(m/s) |  wind speed | m/s  | Vm |\n",
    "| Solar_radiation(W/m^2) |  incoming solar radiation | W/m$^2$  | Qin |\n",
    "| Back_Radiation(W/m^2) | back (long-wave) radiation | W/m$^2$  | Qb | \n",
    "| Sensible_Heat_Flux(W/m^2) |  sensible heat flux | W/m$^2$  | Qh |\n",
    "| Latent_Heat_Flux(W/m^2) |  latent heat flux | W/m$^2$  | Qe |\n",
    "\n",
    "In order to perform time operations correctly, we must reformat the date components into a timestamp.  Proper column names for creating a timestamp include: year, month, day, hour, minute.\n",
    "\n",
    "**In order to complete the lab without modifying any code, use the following:**\n",
    "```\n",
    "names = ['year','month','day','hour','minute','sst','Ta','RH','atm','Vm','Qin','Qb','Qh','Qe']\n",
    "```\n",
    "\n",
    "Rename the columns with `rnamecols`, and check the data again to confirm the renaming was successful."
   ]
  },
  {
   "cell_type": "code",
   "execution_count": null,
   "id": "395bfd6c",
   "metadata": {
    "scrolled": true
   },
   "outputs": [],
   "source": [
    "#Create a list with new names for each column\n",
    "names = ['year','month','day','hour','minute','sst','Ta','RH','atm','Vm','Qin','Qb','Qh','Qe']\n",
    "#Rename the columns of the dataframe\n",
    "renamecols(df,names)\n",
    "#Confirm the renaming was successful\n",
    "checkdata(df)"
   ]
  },
  {
   "cell_type": "markdown",
   "id": "0cf5772e",
   "metadata": {},
   "source": [
    "---\n",
    "### Create a time object\n",
    "\n",
    "Function `maketimestamp` takes the dataset and a list of time components, and it returns a time series. Show the period of time for which we have data by using `checktimerange`, and show the first five timestamps."
   ]
  },
  {
   "cell_type": "code",
   "execution_count": null,
   "id": "5b0d3cdc",
   "metadata": {},
   "outputs": [],
   "source": [
    "#Make a list of all time variables\n",
    "timevars = ['year','month','day','hour','minute']\n",
    "#Create the time variable\n",
    "Time = maketimestamp(df, timevars)\n",
    "#Check what time period is covered in the dataset.\n",
    "checktimerange(Time)\n",
    "#Print the first 5 values\n",
    "checkdata(Time)"
   ]
  },
  {
   "cell_type": "markdown",
   "id": "8763ed45",
   "metadata": {},
   "source": [
    "---\n",
    "### Plot a time series of sea surface temperature\n",
    "\n",
    "The function `single_timeplot (timevar, yvar, title, ylabel, color)` makes a single timeseries plot, and the arguments are:\n",
    "- `timevar` - The time variable\n",
    "- `yvar` - Time dependent variable\n",
    "- `title` - Main title shown over the plot\n",
    "- `ylabel` - Y-axis label, left of the plot, also used for the legend title\n",
    "- `color` - Color of the plotted line\n",
    "\n",
    "Plot the sea surface temperature (SST) vs time."
   ]
  },
  {
   "cell_type": "code",
   "execution_count": null,
   "id": "3bea9007",
   "metadata": {},
   "outputs": [],
   "source": [
    "#Make a timeseries plot of SST\n",
    "single_timeplot(Time,df['sst'],'Sea Surface Temperature ($^{\\circ}$C)', 'SST', 'darkred')"
   ]
  },
  {
   "cell_type": "markdown",
   "id": "5218de8c",
   "metadata": {},
   "source": [
    "---\n",
    "### Discussion questions\n",
    "\n",
    "Use the plot of SST to answer the following:\n",
    "\n",
    "1. What is the temperature range over the time period?\n",
    "2. Locate major periods of decreasing temperature. Approximately which day did each period begin?\n",
    "3. What might have caused these cooling periods?\n",
    "4. Did any hurricanes pass through the Gulf of Mexico during this time period? Do any look coincident with changes in the temperature structure?"
   ]
  },
  {
   "cell_type": "code",
   "execution_count": null,
   "id": "41692a88",
   "metadata": {},
   "outputs": [],
   "source": [
    "#### 1. What is the temperature range over the time period?\n",
    "\n",
    "#### 2. Locate major periods of decreasing temperature. Approximately which day did each period begin?\n",
    "\n",
    "#### 3. What might have caused these cooling periods?\n",
    "\n",
    "#### 4. Did any hurricanes pass through the Gulf of Mexico during this time period? Do any look coincident with changes in the temperature structure?\n"
   ]
  },
  {
   "cell_type": "markdown",
   "id": "09079e8c",
   "metadata": {},
   "source": [
    "<hr style=\"border:2px solid LightSteelBlue\">\n",
    "\n",
    "## Finding Patterns in Heat Flux Data\n",
    "\n",
    "Recall that heat flux is the flow of energy through a surface over a period of time.  The total heat flux is the summation of all components representing heat loss or heat gain.  Incoming **solar radiation** acts as a *heat gain term*, while **back radiation (long-wave) radiation**, **latent heat flux**, and **sensible heat flux** act as *heat loss* terms.\n",
    "\n",
    "In this section, we will plot the components of total heat flux."
   ]
  },
  {
   "cell_type": "markdown",
   "id": "076c59f6",
   "metadata": {},
   "source": [
    "---\n",
    "### Incoming solar radiation\n",
    "Incoming solar radiation ($Q{in}$), our first heat flux term, causes the ocean to **gain** heat.  To examine the heat flux term $Q{in}$, do the following:\n",
    "- Define a variable `Qin` that contains the incoming solar radiation. \n",
    "- Create a plot showing `Qin` vs `time`."
   ]
  },
  {
   "cell_type": "code",
   "execution_count": null,
   "id": "79318e9e",
   "metadata": {},
   "outputs": [],
   "source": [
    "#Make a timeseries plot of Qin\n",
    "single_timeplot(Time,df['Qin'],'Incoming Solar Radiation (W/m2)', 'Qin', 'darkred')"
   ]
  },
  {
   "cell_type": "markdown",
   "id": "68146a28",
   "metadata": {},
   "source": [
    "---\n",
    "### Back radiation, sensible heat flux, and latent heat flux\n",
    "\n",
    "Back radiation ($Q_b$), sensible heat flux ($Q_h$), latent heat flux ($Q_e$) generally cause the ocean to **lose** heat.\n",
    "\n",
    "To examine all heat flux terms along with the sea surface temperature, use the function  `plotfluxtemp(Time,df)`."
   ]
  },
  {
   "cell_type": "code",
   "execution_count": null,
   "id": "461eaad6",
   "metadata": {},
   "outputs": [],
   "source": [
    "#Plots Solar Radiation, Heat Fluxes, and Sea Surface Temperature\n",
    "#Note, the variables must all exist in df, and must be named as expected\n",
    "plotfluxtemp(Time,df)"
   ]
  },
  {
   "cell_type": "markdown",
   "id": "440167fa",
   "metadata": {},
   "source": [
    "---\n",
    "### Discussion questions\n",
    "Use the plots of the heat flux terms to answer the following:\n",
    "1. What is the range of values for the incoming solar radiation ($Q_{in}$) and what is the dominant pattern in this time series?\n",
    "2. What is causing this pattern?\n",
    "3. Why is there variability in the peaks?\n",
    "4. Note that there is a subtle long-term trend over the two month period, with a ~100 W/m$^{2}$ decline in the peaks. Why is this happening? (Hint: Think about how the time series goes from August to October.)\n",
    "5. How do the loss terms differ from the gain term? Please include differences in direction (positive or negative), magnitude, and patterns.\n",
    "6. Qualitatively, what is the strongest heat loss term?\n",
    "7. Compare the latent heat flux ($Q_e$) with the SST plot. Are there any relationships that you see? Is this what you would expect?"
   ]
  },
  {
   "cell_type": "code",
   "execution_count": null,
   "id": "110722c7",
   "metadata": {},
   "outputs": [],
   "source": [
    "#### 1. What is the range of values for the incoming solar radiation ($Q_{in}$) and what is the dominant pattern in this time series?\n",
    "\n",
    "#### 2. What is causing this pattern?\n",
    "\n",
    "#### 3. Why is there variability in the peaks?\n",
    "\n",
    "#### 4. Note that there is a subtle long-term trend over the two month period, with a ~100 W/m$^{2}$ decline in the peaks. Why is this happening? *Hint think about how the time series goes from August to October\n",
    "\n",
    "#### 5. How do the loss terms differ from the gain term? Please include differences in direction (positive or negative), magnitude, and patterns.\n",
    "\n",
    "#### 6. Qualitatively, what is the strongest heat loss term?\n",
    "\n",
    "#### 7. Compare the latent heat flux ($Q_e$) with the SST plot. Are there any relationships that you see? Is this what you would expect?"
   ]
  },
  {
   "cell_type": "markdown",
   "id": "afb629c7",
   "metadata": {},
   "source": [
    "<hr style=\"border:2px solid LightSteelBlue\">\n",
    "\n",
    "## Determine Relative Importance of Terms in a Heat Budget\n",
    "\n",
    "We have gained a qualitative sense of the relative strengths of heat flux terms using the plots for visual comparison. In this section, we quantify the relative strengths by calculating the average value for each term over the period of time.\n",
    "\n",
    "---\n",
    "### Calculate the average value for flux terms\n",
    "Define a new variable `Qloss` that contains the total heat loss at every point in time.\n",
    "Define a new variable `Qt` that contains the total heat flux at every point in time.\n",
    "\n",
    "\n",
    "Calculate the average of $Q_{in}$, $Q_b$, $Q_h$, $Q_e$ rounded to the nearest integer: \n",
    "- To calculate the mean average of all values in the column of a dataframe, do `df['column_name'].mean()`.\n",
    "- To round a value to the nearest integer, use `round(value)`.\n",
    "\n",
    "then sum the terms to calculate:\n",
    "- Total average heat gain, `mean_gain`\n",
    "- Total average heat loss, `mean_loss`\n",
    "- Total average heat flux, `mean_total`"
   ]
  },
  {
   "cell_type": "code",
   "execution_count": null,
   "id": "2e3fae96",
   "metadata": {},
   "outputs": [],
   "source": [
    "#Average of individual heat flux terms\n",
    "Qloss = df['Qb']+df['Qh']+df['Qe']\n",
    "Qt = Qloss + df['Qin']\n",
    "\n",
    "#Average of individual heat flux terms\n",
    "Qin_mean = df['Qin'].mean()\n",
    "Qb_mean = df['Qb'].mean()\n",
    "Qh_mean = df['Qh'].mean()\n",
    "Qe_mean = df['Qe'].mean()\n",
    "\n",
    "#Total averages of gain or loss terms\n",
    "mean_gain = Qin_mean\n",
    "mean_loss = Qb_mean+Qh_mean+Qe_mean\n",
    "mean_total = mean_gain + mean_loss\n",
    "\n",
    "#Print a summary of the results\n",
    "print(\"Heat Gain:\")\n",
    "print(\"    Total average heat gain was\",round(mean_gain,1),\"W/m2\\n\")\n",
    "\n",
    "print(\"Heat Loss:\")\n",
    "print(\"    Average heat loss terms are Back Radiation:\",round(Qb_mean,1),\"W/m2, Sensible Heat:\",\n",
    "      round(Qh_mean,1),\"W/m2, Latent Heat:\",round(Qe_mean,1),\"W/m2\")\n",
    "print(\"    Total average heat loss was\",round(mean_loss,1),\"W/m2\\n\")\n",
    "\n",
    "print(\"Total:\")\n",
    "print(\"    Total average heat flux is\",round(mean_total,1),\"W/m2\\n\")"
   ]
  },
  {
   "cell_type": "markdown",
   "id": "4d70f7d8",
   "metadata": {},
   "source": [
    "---\n",
    "### Discussion questions\n",
    "1. What is the relative strength of each of the heat flux terms?\n",
    "2. Based on these mean values would you expect the water column to be gaining or losing heat?  Explain.\n",
    "3. Are your findings consistent with the water temperature data? "
   ]
  },
  {
   "cell_type": "code",
   "execution_count": null,
   "id": "e7cee378",
   "metadata": {},
   "outputs": [],
   "source": [
    "#### 1. What is the relative strength of each of the heat flux terms?\n",
    "\n",
    "#### 2. Based on these mean values would you expect the water column to be gaining or losing heat?  Explain.\n",
    "\n",
    "#### 3. Are your findings consistent with the water temperature data? "
   ]
  },
  {
   "cell_type": "markdown",
   "id": "14e8cda6",
   "metadata": {},
   "source": [
    "<hr style=\"border:2px solid LightSteelBlue\">\n",
    "\n",
    "\n",
    "## Determine the Expected Temperature Change from Surface Heat Fluxes\n",
    "In this section, we solve the heat transfer equation to compare the theoretical calculation for temperature with our measured data.\n",
    "\n",
    "---\n",
    "\n",
    "### Equation for total heat flux\n",
    "\n",
    "When an object changes temperature, it will transfer heat. The amount of heat depends on the mass of the object. Think about holding a mug of hot cocoa on a winter day. As your cocoa cools to match the surrounding air temperature, it releases heat which warms your hands.  Now think about sitting next to an outdoor hot tub on that same winter day.  The cocoa and the hottub may start at the same temperatures, but the amount of heat they each release is extremely different.   \n",
    "\n",
    "The heat gained or lost ($\\Delta H$) by an object is proportional to its mass and its change in temperature, expressed in the following equation:\n",
    "\n",
    "$$",
    "\\Delta H = c_s m \\Delta T \\label{eq2}\\tag{2}\n",
    "$$",
    "\n",
    "where\n",
    "\n",
    "| Term | Definition | Unit |\n",
    "| :-: | :-: | :-: |\n",
    "| $\\Delta H$ | heat gained or lost by an object | W/m$^2$ |\n",
    "| $c_s$ | specific heat capacity of the object | J/kg$^{\\circ}$C |\n",
    "| $m$ | mass of the object | kg |\n",
    "| $\\Delta T$ | change in temperature  | $^{\\circ}$C |\n",
    "\n",
    "\n",
    "The heat gained or lost over a period of time $t$ is the heat flux $Q$\n",
    "\n",
    "$$",
    "Q = \\frac{\\Delta H}{\\Delta t} \\label{eq3}\\tag{3}\n",
    "$$",
    "\n",
    "Combining $(2)$ and $(3)$ gives us an expression that relates heat flux to the change in temperature:\n",
    "\n",
    "$$",
    "Q = c_s m \\frac{\\Delta T}{\\Delta t}\\label{eq4}\\tag{4}\n",
    "$$",
    "\n",
    "\n",
    "---\n",
    "### Are the changes in SST due *soley* to heat fluxes?\n",
    "\n",
    "We've calculated the heat gain or heat loss of the ocean based on the surface heat fluxes and examined a plot of the sea surface temperature. Are the changes in SST due *soley* to heat fluxes?  \n",
    "\n",
    "![](images/heatfluxes.png)",
    "\n",
    "To examine this, we can calculate the expected temperature change in the water column over the two month period using the expression for $Q$ in $(4)$. For liquids, mass is calculated by the density ($\\rho$) times the volume ($V$), and volume is the depth ($z$) times the surface area ($A$).\n",
    "\n",
    "$$",
    "m = \\rho V\\label{eq5}\\tag{5}",
    "$$",
    "\n",
    "$$",
    "V = A z  \\label{eq6}\\tag{6}",
    "$$",
    " \n",
    "If we assume that measurements taken at the Orange Beach buoy spanned a square meter of the water's surface (i.e., $A = 1 m^2)$, we arrive at the following equation for the total heat flux: \n",
    "\n",
    "$$",
    "Q = c_p \\rho z \\frac{\\Delta T}{\\Delta t} \\label{eq7}\\tag{7}\n",
    "$$",
    "\n",
    "where\n",
    "\n",
    "| Term | Definition | Unit |\n",
    "| :-: | :-: | :-: |\n",
    "| $Q$ | heat gained or lost by an object | W/m$^2$ |\n",
    "| $z$ | water depth | m |\n",
    "| $\\Delta T$ | temperature difference  | $^{\\circ}$C |\n",
    "| $\\Delta t$ | period of time  | s |\n",
    "\n",
    "with physical constants\n",
    "\n",
    "| Term | Definition | Value |\n",
    "| :-: | :-: | :-: |\n",
    "| $c_p$ | heat capacity of seawater | 3850 J/m$^{2}$ |\n",
    "| $\\rho$ | average density of seawater | 1020 kg/m$^{2}$ |\n",
    "\n",
    "\n",
    "We can rearrange $(7)$ to solve for the change in temperature given the heat flux:\n",
    "$$",
    "\\Delta T = \\frac{Q  \\Delta t}{c_p \\rho z} \\label{eq8}\\tag{8}\n",
    "$$",
    "\n",
    "Recall using bulk formula allows us to make an *estimate* the total heat flux:\n",
    "\n",
    "$$",
    "Q \\approx Q_t = Q_{in} + Q_b + Q_h + Q_e \\label{eq9}\\tag{9}\n",
    "$$",
    "\n",
    "Using the estimated total heat flux $Q_t$, the time period of the measurements, and the depth of water at the Orange Beach buoy, we can determine what the expected temperature change would be if surface fluxes were the only thing driving that temperature change.\n",
    "\n",
    "To calculate this given heat flux measurements in seawater taken 26m below a buoy during a period of time, use the function `tempchange(Time, Qt, z, cs, rho)`.  Assume a heat capacity of 3850 J/kg$^{\\circ}$C  with average density 1020 kg/m$^3$.\n",
    "\n",
    "Recall that we have previously calculated:\n",
    "- `Qt`, time series data with total flux in W/m$^2$, created by summing `Qin`,`Qb`,`Qh`,`Qe`\n",
    "\n",
    "Below, calculate the expected temperature change given the total heat flux estimated by the bulk formula."
   ]
  },
  {
   "cell_type": "code",
   "execution_count": null,
   "id": "be11a656",
   "metadata": {},
   "outputs": [],
   "source": [
    "#Calculate the expected temperature change given the total heat flux estimated by the bulk formula\n",
    "z = 26\n",
    "cs = 3850\n",
    "rho = 1020\n",
    "tempchange(Time,Qt,z,cs,rho)"
   ]
  },
  {
   "cell_type": "markdown",
   "id": "50780f9a",
   "metadata": {},
   "source": [
    "To answer the questions 2 and 3 in the Discussion Questions that follow, repeat this calculation for depth ($z$) of 5 and 100 meters."
   ]
  },
  {
   "cell_type": "code",
   "execution_count": null,
   "id": "e7b61a78",
   "metadata": {},
   "outputs": [],
   "source": [
    "##To answer the Discussion Questions below, repeat this calculation for...\n",
    "##Question 2, 5 meters\n",
    "#tempchange()\n",
    "##Question 3, 100 meters\n",
    "#tempchange()"
   ]
  },
  {
   "cell_type": "markdown",
   "id": "bbd4f2fa",
   "metadata": {},
   "source": [
    "---\n",
    "### Discussion Questions\n",
    "1. Based on the buoy data from Aug-Oct of 2017, is the change in temperature predicted from the surface heat flux consistent with what the water temperature data shows?  Why or why not? (Hint: Think about the water column structure at the end of summer as compared to winter.)\n",
    "2. What would happen if the Orange Beach buoy was in 5m of water rather than 26m?\n",
    "3. What would happen if the water column were 100 meters?\n",
    "4. What do these differences in temperature change mean for how the coastal ocean cools?"
   ]
  },
  {
   "cell_type": "code",
   "execution_count": null,
   "id": "25f987b0",
   "metadata": {},
   "outputs": [],
   "source": [
    "#### 1. Based on the buoy data from Aug-Oct of 2017, is the change in temperature predicted from the surface heat flux consistent with what the water temperature data shows?  Why or why not? (Hint: Think about the water column structure at the end of summer as compared to winter.)\n",
    "\n",
    "#### 2. What would happen if the Orange Beach buoy was in 5m of water rather than 26m?\n",
    "\n",
    "#### 3. What would happen if the water column were 100 meters?\n",
    "\n",
    "#### 4. What do these differences in temperature change mean for how the coastal ocean cools?"
   ]
  },
  {
   "cell_type": "markdown",
   "id": "3c196969",
   "metadata": {},
   "source": [
    "<hr style=\"border:2px solid LightSteelBlue\">\n",
    "\n",
    "## Determine Environmental Conditions Driving Surface Heat Fluxes\n",
    "\n",
    "Plots of temperature and heat flux illustrate that the decrease in temperature over the time period did not happen in a constant and linear fashion. Rather than a slow and steady decrease, there were lots of 'downs' and a few 'ups'. \n",
    " \n",
    "Let’s try to understand these shorter time fluctuations by looking at the most significant cooling events.  \n",
    "\n",
    "---\n",
    "### Bulk formula for Latent Heat Flux\n",
    "\n",
    "The latent heat flux $Q_e$ is the dominant source of heat loss during the most significant cooling events.  Recall that $Q_e$ is an energy exchange that occurs between the ocean and atmosphere when water changes states, e.g., 'ocean sweating'.  The exchange depends on humidity, which is the concentration of water vapor in the air.  *Specific humidity* is the mass of water vapor per unit mass of air.  The air is *saturated* when it holds the maximum amount of water vapor for a given temperature.\n",
    "\n",
    "We can examine each element contributing to the $Q_e$ term using a bulk formula for latent heat flux:\n",
    "\n",
    "$$",
    "Q_e = \\rho_a L_E C_L U_{10}(q_a-q_s)\\label{eq10}\\tag{10}\n",
    "$$",
    "\n",
    "where\n",
    "\n",
    "| Term | Definition | Unit |\n",
    "| :-: | :-: | :-: |\n",
    "| $Q_e$ | latent heat flux | W/m$^2$ |\n",
    "| $U_{10}$ | wind speed at 10m | m/s$^2$ |\n",
    "| $q_a$ | specific humidity of overlying air | g/kg |\n",
    "| $q_s$ | specific humidity at saturation | g/kg |\n",
    "| ($q_a$/$q_s$)*100 | relative humidity | % |\n",
    "\n",
    "\n",
    "with physical constants\n",
    "\n",
    "| Term | Definition | Value |\n",
    "| :-: | :-: | :-: |\n",
    "| $\\rho_a$ | density of air | $\\approx$ 1.2 kg/m$^3$ |\n",
    "| $L_e$ | latent heat of vaporization | $\\approx$ 2260 kJ/kg |\n",
    "| $C_L$ | bulk transfer coefficient, also called the Stanton number | time varying |\n",
    "\n",
    "---\n",
    "### Plot the wind speed and relative humidity\n",
    "\n",
    "Since wind speed and relative humidity are key terms in the formula, let’s take a look by plotting those terms. Use the `single_timeplot (Time, yvar, title, ylabel, color)` function."
   ]
  },
  {
   "cell_type": "code",
   "execution_count": null,
   "id": "ae132c10",
   "metadata": {},
   "outputs": [],
   "source": [
    "#Make a timeseries plot of wind speed (Vm)\n",
    "single_timeplot(Time,df['Vm'],'Wind Speed (m/s)', 'Wind Speed', 'darkred')\n",
    "#Make a timeseries plot of relative humidity (RH)\n",
    "single_timeplot(Time,df['RH'],'Relative Humidity (%)', 'Relative Humidity', 'darkblue')"
   ]
  },
  {
   "cell_type": "markdown",
   "id": "c1072a14",
   "metadata": {},
   "source": [
    "---\n",
    "\n",
    "### Compare this to the bulk formula for Sensible Heat Flux\n",
    "\n",
    "Recall the bulk formula for Latent Heat Flux $(9)$\n",
    "$$",
    "Q_e = \\rho_a L_E C_L U_{10}(q_a-q_s)\n",
    "$$",
    "\n",
    "Compare this with the bulk formula for the Sensible Heat Flux:\n",
    "$$",
    "Q_h = \\rho_a c_p C_S U_{10}(T_a-T_s)\\label{eq11}\\tag{11}\n",
    "$$",
    "\n",
    "where\n",
    "\n",
    "| Term | Definition | Unit |\n",
    "| :-: | :-: | :-: |\n",
    "| $Q_h$ | sensible heat flux | W/m$^2$ |\n",
    "| $U_{10}$ | wind speed at 10m | m/s$^2$ |\n",
    "| $T_a$ | air temperature | $^{\\circ}$C |\n",
    "| $T_s$ | water temperature | $^{\\circ}$C |\n",
    "\n",
    "with physical constants\n",
    "\n",
    "| Term | Definition | Value |\n",
    "| :-: | :-: | :-: |\n",
    "| $\\rho_a$ | density of air | $\\approx$ 1.2 kg/m$^3$ |\n",
    "| $c_p$ | specific heat of air | $\\approx$ 1 J/g $^{\\circ}$K |\n",
    "| $C_S$ | bulk transfer coefficient, also called the Dalton number | time varying |"
   ]
  },
  {
   "cell_type": "markdown",
   "id": "1868525e",
   "metadata": {},
   "source": [
    "---\n",
    "### Plot the sensible heat flux and difference in the air and water temperature data"
   ]
  },
  {
   "cell_type": "code",
   "execution_count": null,
   "id": "43a2f448",
   "metadata": {},
   "outputs": [],
   "source": [
    "#Create a variable with the difference between Air and Sea Temperatures\n",
    "diffairwater = df['Ta'] - df['sst']\n",
    "#Make a timeseries plot of wind speed (Vm)\n",
    "single_timeplot(Time,diffairwater,'Difference between Air and Sea Temperatures ($^{\\circ}$C)', '$T_{air} - SST$', 'darkred')\n",
    "#Make a timeseries plot of relative humidity (RH)\n",
    "single_timeplot(Time,df['Qh'],'Sensible Heat Flux (W/m2)', '$Q_h$', 'darkblue')"
   ]
  },
  {
   "cell_type": "markdown",
   "id": "fa47e624",
   "metadata": {},
   "source": [
    "---\n",
    "### Discussion Questions\n",
    "1. What is happening with wind speed and relative humidity during the periods of highest negative heat flux values?\n",
    "2. Is this consistent with the bulk formula for Surface Heat Fluxes? Why or why not?\n",
    "3. Compare the bulk formulas for latent and sensible heat: which terms are different and which are the same?\n",
    "4. What conditions might produce large negative sensible heat flux values?\n",
    "5. Notice that there are some cases where $Q_h$ is positive, e.g., 10/7.  What do you think might be going on here?  (Hint: Look at the air-water temperature difference.)\n",
    "6. Now, consider the fall time period during which these data were collected. How might this time series of $Q_h$ be different if the data were collected in the spring season? "
   ]
  },
  {
   "cell_type": "code",
   "execution_count": null,
   "id": "80e97daa",
   "metadata": {},
   "outputs": [],
   "source": [
    "#### 1. What is happening with wind speed and relative humidity during the periods of highest negative heat flux values?\n",
    "\n",
    "#### 2. Is this consistent with the bulk formula for Surface Heat Fluxes? Why or why not?\n",
    "\n",
    "#### 3. What is different and what is the same?\n",
    "\n",
    "#### 4. What conditions might produce large negative sensible heat flux values?\n",
    "\n",
    "#### 5. Notice that there are some cases where the Qh is positive, e.g., 10/7.  What do you think might be going on here?  (Hint: Look at the air-water temperature difference.)\n",
    "\n",
    "#### 6. Now, consider the fall time period during which these data were collected.   How might this time series of Qh be different if the data were collected in the spring season? "
   ]
  },
  {
   "cell_type": "markdown",
   "id": "e42a0684",
   "metadata": {},
   "source": [
    "<hr style=\"border:2px solid LightSteelBlue\">\n",
    "\n",
    "## Summary\n",
    "\n",
    "In this lab, we have learned how to:\n",
    "- Interpret relationships between oceanic and atmospheric data\n",
    "- Plot sea surface temperature and heat fluxes\n",
    "- Assess the importance of the surface heat fluxes in an ocean temperature budget\n",
    "- Understand the impact of different environmental conditions in bulk heat flux formulas\n",
    "\n",
    "A function with a summary of plots is below."
   ]
  },
  {
   "cell_type": "code",
   "execution_count": null,
   "id": "f675c562",
   "metadata": {},
   "outputs": [],
   "source": [
    "#Plots Qs, sst, Vm, RH, and Ta-SST\n",
    "plotsummary(Time,df)"
   ]
  },
  {
   "cell_type": "markdown",
   "id": "78cfcb1f",
   "metadata": {},
   "source": [
    "<hr style=\"border:2px solid LightSteelBlue\">\n",
    "\n",
    "## References\n",
    "Write some\n",
    "- references\n",
    "- and \n",
    "- such"
   ]
  },
  {
   "cell_type": "markdown",
   "id": "3e1d5891",
   "metadata": {},
   "source": [
    "<hr style=\"border:2px solid LightSteelBlue\">\n",
    "\n",
    "## The following contains all the code for the functions\n",
    "\n",
    "Below are all of the functions defined in heatfluxlab.py.  You can try modifying the functions here, and if you run the cell with the modified function, it will change that function definition for the session.  If you break something, go to the beginning and to the 'import' step again\n"
   ]
  },
  {
   "cell_type": "markdown",
   "id": "7b94c017",
   "metadata": {},
   "source": [
    "---\n",
    "## Importing the Python libraries"
   ]
  },
  {
   "cell_type": "code",
   "execution_count": null,
   "id": "801e9a65",
   "metadata": {},
   "outputs": [],
   "source": [
    "#Alias Pandas as pd, for manipulating tables and timeseries\n",
    "import pandas as pd"
   ]
  },
  {
   "cell_type": "markdown",
   "id": "707956e2",
   "metadata": {},
   "source": [
    "---\n",
    "## Reading a data file"
   ]
  },
  {
   "cell_type": "code",
   "execution_count": null,
   "id": "7ec81647",
   "metadata": {},
   "outputs": [],
   "source": [
    "# Function to read a CSV file with Pandas\n",
    "def readfile (fname):\n",
    "    data = pd.read_csv(fname, sep=',', engine='python') \n",
    "    return data"
   ]
  },
  {
   "cell_type": "markdown",
   "id": "a7c9ea85",
   "metadata": {},
   "source": [
    "---\n",
    "## Checking the data file\n",
    "Uses 'head', which checks the first lines of the data file"
   ]
  },
  {
   "cell_type": "code",
   "execution_count": null,
   "id": "fddbd793",
   "metadata": {},
   "outputs": [],
   "source": [
    "def checkdata (data):\n",
    "    return data.head()"
   ]
  },
  {
   "cell_type": "markdown",
   "id": "11b42e0e",
   "metadata": {},
   "source": [
    "---\n",
    "## Rename columns in a Dataframe"
   ]
  },
  {
   "cell_type": "code",
   "execution_count": null,
   "id": "d8e73504",
   "metadata": {},
   "outputs": [],
   "source": [
    "def renamecols(df,names):\n",
    "    df.columns=names"
   ]
  },
  {
   "cell_type": "markdown",
   "id": "4cc50fa3",
   "metadata": {},
   "source": [
    "---\n",
    "## Convert time elements to time stamp\n",
    "Creates a DateTime object"
   ]
  },
  {
   "cell_type": "code",
   "execution_count": null,
   "id": "04db51b6",
   "metadata": {},
   "outputs": [],
   "source": [
    "#Create timestamp\n",
    "def maketimestamp(df,timevars):\n",
    "        return pd.to_datetime(df[timevars])"
   ]
  },
  {
   "cell_type": "markdown",
   "id": "1da6ac68",
   "metadata": {},
   "source": [
    "---\n",
    "## Check the time range"
   ]
  },
  {
   "cell_type": "code",
   "execution_count": null,
   "id": "72d12d01",
   "metadata": {},
   "outputs": [],
   "source": [
    "#Check what time period is covered in the dataset.\n",
    "def checktimerange(Time):\n",
    "    mintime = Time.min().strftime('%b %d, %Y')\n",
    "    maxtime = Time.max().strftime('%b %d, %Y')\n",
    "    datelabel = \"Data collected from \" + mintime + \" to \" + maxtime\n",
    "    print(datelabel)"
   ]
  },
  {
   "cell_type": "markdown",
   "id": "bc186f03",
   "metadata": {},
   "source": [
    "---\n",
    "## Calculate the change in temperature"
   ]
  },
  {
   "cell_type": "code",
   "execution_count": null,
   "id": "06355b92",
   "metadata": {},
   "outputs": [],
   "source": [
    "#Calculate change in temperature given time, heat flux, depth, specific heat capacity, and density\n",
    "def tempchange (Time, Q, z, c, rho):\n",
    "    timerange = Time.max() - Time.min()\n",
    "    tsec = timerange.total_seconds()\n",
    "    Qave = Q.mean()\n",
    "    strz = str(z)\n",
    "    stround = str(round((Qave*tsec)/(c*rho*z),2))\n",
    "    message = \"The expected change in temperature for the given heat flux for a water column depth of \" + strz + \"m is \"  + stround + \" degrees C\"\n",
    "    return print(message)"
   ]
  },
  {
   "cell_type": "markdown",
   "id": "581da587",
   "metadata": {},
   "source": [
    "---\n",
    "## Make a plot of a single variable"
   ]
  },
  {
   "cell_type": "code",
   "execution_count": null,
   "id": "c0dd8ee1",
   "metadata": {},
   "outputs": [],
   "source": [
    "#Plot a single variable\n",
    "def single_timeplot (Time, yvar, title, ylabel, color):\n",
    "    #Alias MatPlotLib at plt, for making plots/graphs/figures\n",
    "    import matplotlib.pyplot as plt\n",
    "    #Daily ticks in month-date format for year 2017\n",
    "    from matplotlib.dates import DayLocator\n",
    "    from matplotlib.dates import DateFormatter\n",
    "    date_form = DateFormatter(\"%m-%d\")\n",
    "    dloc = DayLocator()\n",
    "\n",
    "    #Make a timeseries plot\n",
    "    fig1, (ax1) = plt.subplots(1, figsize=(20,3)) #form two rows and one column (2,1) of subplots\n",
    "    fig1.suptitle(title, fontsize=18, y=1.05)\n",
    "\n",
    "    #First plot, solar radiation\n",
    "    ax1.plot(Time, yvar, color) #main plot\n",
    "    ax1.axes.get_xaxis().set_ticks([]) #remove dates\n",
    "    ax1.set_xlim([Time.min(), Time.max()]) #x-limits\n",
    "    ax1.set_ylim([yvar.min(),yvar.max()])   #y-limits\n",
    "    ax1.legend([ylabel],framealpha=1, fontsize=12)\n",
    "    ax1.set_ylabel(ylabel,fontsize=14)\n",
    "    ax1.xaxis.set_major_locator(dloc)\n",
    "    ax1.grid(color='lightgrey', linestyle='--', linewidth=0.5) #gridlines\n",
    "    ax1.yaxis.labelpad = 15\n",
    "    plt.xticks(rotation = 45)\n",
    "    ax1.xaxis.labelpad = 20\n",
    "    mintime = Time.min().strftime('%b %d, %Y')\n",
    "    maxtime = Time.max().strftime('%b %d, %Y')\n",
    "    datelabel = \"Data collected from \" + mintime + \" to \" + maxtime\n",
    "    ax1.set_xlabel(datelabel)\n",
    "    ax1.xaxis.set_major_formatter(date_form)\n",
    "\n",
    "    plt.show()"
   ]
  },
  {
   "cell_type": "markdown",
   "id": "87526e62",
   "metadata": {},
   "source": [
    "---\n",
    "## Create plots for every variable in a Dataframe"
   ]
  },
  {
   "cell_type": "code",
   "execution_count": null,
   "id": "04e3001f",
   "metadata": {},
   "outputs": [],
   "source": [
    "#Plot all variables in a dataframe\n",
    "def multi_plot (Time, yvar,ylabel):\n",
    "    #Alias MatPlotLib at plt, for making plots/graphs/figures\n",
    "    import matplotlib.pyplot as plt\n",
    "    #Make a timeseries plot\n",
    "    fig1, (ax1) = plt.subplots(1, figsize=(20, 3)) #form two rows and one column (2,1) of subplots\n",
    "    #Choose which colors will be used automatically for plots\n",
    "    #First plot, solar radiation\n",
    "    ax1.plot(Time, yvar) #main plot\n",
    "    ax1.set_xlim([Time.min(), Time.max()]) #x-limits\n",
    "    ax1.set_ylabel(ylabel, fontsize=14)\n",
    "    mintime = Time.min().strftime('%b %d, %Y')\n",
    "    maxtime = Time.max().strftime('%b %d, %Y')\n",
    "    datelabel = \"Data collected from \" + mintime + \" to \" + maxtime\n",
    "    ax1.set_xlabel(datelabel)\n",
    "    plt.show()"
   ]
  },
  {
   "cell_type": "markdown",
   "id": "d6e4915c",
   "metadata": {},
   "source": [
    "---\n",
    "## Create the heat flux plot\n",
    "The plot is specific to heat fluxes and SST"
   ]
  },
  {
   "cell_type": "code",
   "execution_count": null,
   "id": "9b449548",
   "metadata": {},
   "outputs": [],
   "source": [
    "#Plot solar radiation, heat flux loss terms, and sea surface temperature\n",
    "def plotfluxtemp (Time, df):\n",
    "    #Alias MatPlotLib at plt, for making plots/graphs/figures\n",
    "    import matplotlib.pyplot as plt\n",
    "\n",
    "    #Define Title String\n",
    "    mintime = Time.min().strftime('%b %d, %Y')\n",
    "    maxtime = Time.max().strftime('%b %d, %Y')\n",
    "    datelabel = \"Data collected from \" + mintime + \" to \" + maxtime\n",
    "\n",
    "    #Define SST and Qin\n",
    "    sst = df['sst']\n",
    "    Qin = df['Qin']\n",
    "    #Define data frame called heatloss containing the last three columns of the data file.\n",
    "    vars = ['Qb','Qh','Qe']\n",
    "    heatloss = df[vars]\n",
    "\n",
    "    #Daily ticks in month-date format for year 2019\n",
    "    from matplotlib.dates import DayLocator\n",
    "    from matplotlib.dates import DateFormatter\n",
    "    date_form = DateFormatter(\"%m-%d\")\n",
    "    dloc = DayLocator()\n",
    "\n",
    "    #Choose which colors will be used automatically for plots\n",
    "    from cycler import cycler\n",
    "    plt.rc('axes', prop_cycle=(cycler('color', ['black', 'blue', 'grey'])))\n",
    "\n",
    "    #Make a timeseries plot with heat gain and heat loss terms\n",
    "    fig1, (ax1, ax2, ax3) = plt.subplots(3,1, figsize=(20, 8)) #form three rows and one column (3,1) of subplots\n",
    "    fig1.suptitle('\\n Magnitude of Heat Flux Terms (W/m$^2$) and Sea Surface Temperature ($^{\\circ}$C)', fontsize=18)\n",
    "\n",
    "    #First plot, solar radiation\n",
    "    ax1.plot(Time, Qin,'darkred') #main plot\n",
    "    ax1.axes.get_xaxis().set_ticks([]) #remove dates\n",
    "    ax1.set_xlim([Time.min(), Time.max()]) #x-limits\n",
    "    ax1.set_ylim([Qin.min(),Qin.max()+50])   #y-limits\n",
    "    ax1.legend(['Q$_{in}$  Solar Radiation'],framealpha=1, fontsize=12)\n",
    "    ax1.set_xticklabels('')\n",
    "    ax1.minorticks_off()\n",
    "    ax1.set_ylabel('Heat Gain',fontsize=14)\n",
    "    ax1.xaxis.set_major_locator(dloc)\n",
    "    ax1.grid(color='lightgrey', linestyle='--', linewidth=0.5) #gridlines\n",
    "    ax1.yaxis.labelpad = 15\n",
    "\n",
    "    #Plot all of the heat loss terms\n",
    "    ax2.plot(Time, heatloss) #main plot\n",
    "    ax2.grid(color='lightgrey', linestyle='--', linewidth=0.5)#gridlines\n",
    "    ax2.set_xlim([Time.min(), Time.max()]) #x-limits\n",
    "    ax2.set_ylim([heatloss['Qe'].min(),heatloss['Qe'].max()+50]) #y-limits\n",
    "    ax2.xaxis.set_major_locator(dloc)\n",
    "    ax2.axes.get_xaxis().set_ticks([]) #remove dates\n",
    "    plt.xlabel(datelabel)\n",
    "    ax2.xaxis.labelpad = 20\n",
    "    ax2.legend(['Q$_b$  Back Radiation','Q$_h$  Sensible Heat Flux','Q$_e$  Latent Heat Flux'],framealpha=1, fontsize=12)\n",
    "    ax2.set_xticklabels('')\n",
    "    ax2.minorticks_off()\n",
    "    ax2.set_ylabel('Heat Loss', fontsize=14)\n",
    "    ax2.axes.get_xaxis().set_ticks([]) #remove dates\n",
    "    ax2.xaxis.set_major_locator(dloc)\n",
    "\n",
    "    ax2.yaxis.labelpad = 15\n",
    "    plt.subplots_adjust(hspace=0.01)\n",
    "\n",
    "    #Third plot, Temperature\n",
    "    ax3.plot(Time, sst,'darkblue') #main plot\n",
    "    ax3.axes.get_xaxis().set_ticks([]) #remove dates\n",
    "    ax3.set_xlim([Time.min(), Time.max()]) #x-limits\n",
    "    ax3.set_ylim([sst.min()-.25,sst.max()+.25])   #y-limits\n",
    "    ax3.legend(['SST  Sea Surface Temperature'],framealpha=1, fontsize=12)\n",
    "    ax3.set_xticklabels('')\n",
    "    ax3.minorticks_off()\n",
    "    ax3.set_ylabel('Temperature',fontsize=14)\n",
    "    ax3.xaxis.set_major_locator(dloc)\n",
    "    ax3.grid(color='lightgrey', linestyle='--', linewidth=0.5) #gridlines\n",
    "    ax3.yaxis.labelpad = 20\n",
    "    ax3.xaxis.set_major_formatter(date_form)\n",
    "    plt.xticks(rotation = 45)\n",
    "    ax3.xaxis.labelpad = 20\n",
    "\n",
    "    plt.show()"
   ]
  },
  {
   "cell_type": "markdown",
   "id": "b6c66bee",
   "metadata": {},
   "source": [
    "---\n",
    "## Create the plot summary\n",
    "Six plots"
   ]
  },
  {
   "cell_type": "code",
   "execution_count": null,
   "id": "48fe5111",
   "metadata": {},
   "outputs": [],
   "source": [
    "#Plot solar radiation, heat flux loss terms, and sea surface temperature\n",
    "def plotsummary (Time, df):\n",
    "    #Alias MatPlotLib at plt, for making plots/graphs/figures\n",
    "    import matplotlib.pyplot as plt\n",
    "\n",
    "    #Define SST and Qin\n",
    "    sst = df['sst']\n",
    "    Qin = df['Qin']\n",
    "    #Define data frame called heatloss containing the last three columns of the data file.\n",
    "    vars = ['Qb','Qh','Qe']\n",
    "    heatloss = df[vars]\n",
    "\n",
    "    #Ticks in month-date format\n",
    "    from matplotlib.dates import DayLocator\n",
    "    from matplotlib.dates import DateFormatter\n",
    "    date_form = DateFormatter(\"%m-%d\")\n",
    "    dloc = DayLocator(interval=3)\n",
    "\n",
    "    #Choose which colors will be used automatically for plots\n",
    "    from cycler import cycler\n",
    "    plt.rc('axes', prop_cycle=(cycler('color', ['black', 'royalblue', 'grey'])))\n",
    "\n",
    "    #Make a timeseries plot with heat gain and heat loss terms\n",
    "    fig1, axs = plt.subplots(3,2,figsize=(30, 15)) #form three rows and two columns (3,2) of subplots\n",
    "\n",
    "    mintime = Time.min().strftime('%b %d, %Y')\n",
    "    maxtime = Time.max().strftime('%b %d, %Y')\n",
    "    datelabel = \"\\n \\n Data collected from \" + mintime + \" to \" + maxtime\n",
    "    fig1.suptitle(datelabel, fontsize=20)\n",
    "\n",
    "    ax1=axs[0,0]\n",
    "    #First plot, solar radiation\n",
    "    ax1.plot(Time, Qin,'darkred') #main plot\n",
    "    ax1.axes.get_xaxis().set_ticks([]) #remove dates\n",
    "    ax1.set_xlim([Time.min(), Time.max()]) #x-limits\n",
    "    ax1.set_ylim([Qin.min(),Qin.max()+50])   #y-limits\n",
    "    ax1.legend(['Q$_{in}$  Solar Radiation'],framealpha=1, fontsize=14)\n",
    "    ax1.set_xticklabels('')\n",
    "    ax1.minorticks_off()\n",
    "    #ax1.set_ylabel('Heat Gain',fontsize=14)\n",
    "    ax1.xaxis.set_major_locator(dloc)\n",
    "    ax1.grid(color='lightgrey', linestyle='--', linewidth=0.5) #gridlines\n",
    "\n",
    "\n",
    "    ax2=axs[1,0]\n",
    "    #Plot all of the heat loss terms\n",
    "    ax2.plot(Time, heatloss) #main plot\n",
    "    ax2.grid(color='lightgrey', linestyle='--', linewidth=0.5)#gridlines\n",
    "    ax2.set_xlim([Time.min(), Time.max()]) #x-limits\n",
    "    ax2.set_ylim([heatloss['Qe'].min(),heatloss['Qe'].max()+50]) #y-limits\n",
    "    ax2.xaxis.set_major_locator(dloc)\n",
    "    ax2.axes.get_xaxis().set_ticks([]) #remove dates\n",
    "    ax2.legend(['Q$_b$  Back Radiation','Q$_h$  Sensible Heat Flux','Q$_e$  Latent Heat Flux'],framealpha=1, fontsize=14)\n",
    "    ax2.set_xticklabels('')\n",
    "    ax2.minorticks_off()\n",
    "    #ax2.set_ylabel('Heat Loss', fontsize=14)\n",
    "    ax2.axes.get_xaxis().set_ticks([]) #remove dates\n",
    "    ax2.xaxis.set_major_locator(dloc)\n",
    "    plt.subplots_adjust(hspace=0.01,wspace=0)\n",
    "\n",
    "    ax3=axs[2,0]\n",
    "    #Third plot, Temperature\n",
    "    ax3.plot(Time, sst,'darkgreen') #main plot\n",
    "    ax3.axes.get_xaxis().set_ticks([]) #remove dates\n",
    "    ax3.set_xlim([Time.min(), Time.max()]) #x-limits\n",
    "    ax3.set_ylim([sst.min()-.25,sst.max()+.25])   #y-limits\n",
    "    ax3.legend(['Sea Surface Temperature (SST)'],framealpha=1, fontsize=14)\n",
    "    ax3.set_xticklabels('',rotation=45)\n",
    "    ax3.minorticks_off()\n",
    "    #ax3.set_ylabel('Sea Surface Temperature',fontsize=14)\n",
    "    ax3.xaxis.set_major_locator(dloc)\n",
    "    ax3.grid(color='lightgrey', linestyle='--', linewidth=0.5) #gridlines\n",
    "    ax3.xaxis.set_major_formatter(date_form)\n",
    "    plt.xticks(rotation = 45)\n",
    "    ax3.tick_params(axis='x',labelrotation=45)\n",
    "\n",
    "    ax4=axs[0,1]\n",
    "    #Fourth plot, Wind Speed\n",
    "    ax4.plot(Time, df['Vm'],'saddlebrown') #main plot\n",
    "    ax4.axes.get_xaxis().set_ticks([]) #remove dates\n",
    "    ax4.set_xlim([Time.min(), Time.max()]) #x-limits\n",
    "    ax4.set_ylim([df['Vm'].min(),df['Vm'].max()])   #y-limits\n",
    "    ax4.legend(['Wind Speed'],framealpha=1, fontsize=14)\n",
    "    ax4.set_xticklabels('')\n",
    "    ax4.minorticks_off()\n",
    "    #ax4.set_ylabel('Wind Speed',fontsize=14)\n",
    "    ax4.xaxis.set_major_locator(dloc)\n",
    "    ax4.grid(color='lightgrey', linestyle='--', linewidth=0.5) #gridlines\n",
    "    ax4.yaxis.set_label_position(\"right\")\n",
    "    ax4.yaxis.tick_right()\n",
    "\n",
    "    ax5=axs[1,1]\n",
    "    #Fifth plot, Relative Humidity\n",
    "    ax5.plot(Time, df['RH'],'darkblue') #main plot\n",
    "    ax5.grid(color='lightgrey', linestyle='--', linewidth=0.5)#gridlines\n",
    "    ax5.set_xlim([Time.min(), Time.max()]) #x-limits\n",
    "    ax5.set_ylim(df['RH'].min(),df['RH'].max()) #y-limits\n",
    "    ax5.xaxis.set_major_locator(dloc)\n",
    "    ax5.axes.get_xaxis().set_ticks([]) #remove dates\n",
    "    ax5.legend(['Relative Humidity'],framealpha=1, fontsize=14)\n",
    "    ax5.set_xticklabels('')\n",
    "    ax5.minorticks_off()\n",
    "    #ax5.set_ylabel('Relative Humidity', fontsize=14)\n",
    "    ax5.axes.get_xaxis().set_ticks([]) #remove dates\n",
    "    ax5.xaxis.set_major_locator(dloc)\n",
    "    plt.subplots_adjust(hspace=0.01)\n",
    "    ax5.yaxis.set_label_position(\"right\")\n",
    "    ax5.yaxis.tick_right()\n",
    "\n",
    "    ax6=axs[2,1]\n",
    "    #Sixth plot, Difference in Air and Water temperature\n",
    "    diffairtemp = df['Vm']-df['sst']\n",
    "    ax6.plot(Time, diffairtemp,'indigo') #main plot\n",
    "    ax6.axes.get_xaxis().set_ticks([]) #remove dates\n",
    "    ax6.set_xlim([Time.min(), Time.max()]) #x-limits\n",
    "    ax6.set_ylim([diffairtemp.min(),diffairtemp.max()])   #y-limits\n",
    "    ax6.legend(['Air-Sea Temperature Difference'],framealpha=1, fontsize=14)\n",
    "    ax6.set_xticklabels('')\n",
    "    ax6.minorticks_off()\n",
    "    #ax6.set_ylabel('Air-Water Temperature$',fontsize=14)\n",
    "    ax6.xaxis.set_major_locator(dloc)\n",
    "    ax6.grid(color='lightgrey', linestyle='--', linewidth=0.5) #gridlines\n",
    "    ax6.xaxis.set_major_formatter(date_form)\n",
    "    plt.xticks(rotation = 45)\n",
    "    ax6.yaxis.set_label_position(\"right\")\n",
    "    ax6.yaxis.tick_right()\n",
    "\n",
    "#    mintime = Time.min().strftime('%b %d, %Y')\n",
    "#    maxtime = Time.max().strftime('%b %d, %Y')\n",
    "#    datelabel = \"Data collected from \" + mintime + \" to \" + maxtime\n",
    "#    fig1.suptitle(datelabel, va='bottom', fontsize=14)\n",
    "\n",
    "    plt.show()\n"
   ]
  }
 ],
 "metadata": {
  "kernelspec": {
   "display_name": "Python 3 (ipykernel)",
   "language": "python",
   "name": "python3"
  },
  "language_info": {
   "codemirror_mode": {
    "name": "ipython",
    "version": 3
   },
   "file_extension": ".py",
   "mimetype": "text/x-python",
   "name": "python",
   "nbconvert_exporter": "python",
   "pygments_lexer": "ipython3",
   "version": "3.10.9"
  }
 },
 "nbformat": 4,
 "nbformat_minor": 5
}
