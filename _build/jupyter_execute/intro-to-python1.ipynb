{
 "cells": [
  {
   "cell_type": "markdown",
   "metadata": {},
   "source": [
    "# Lab 3:  Introduction to Python I\n",
    "\n",
    "In this class, we will be using Python for data analysis and visualization.\n",
    " \n",
    "To run the lab interactively, click the Binder button below:\n",
    "\n",
    "[![Binder](https://mybinder.org/badge_logo.svg)](https://mybinder.org/v2/gh/l3-hpc/intro-computational-marine-sciences.git/main?labpath=Lab3_Intro_to_Python_1.ipynb)\n",
    "\n",
    "---\n",
    "\n",
    "\n",
    "## Why Use Python?\n",
    "* General-purpose, cross-platform\n",
    "* Free and open source\n",
    "* Users can quickly learn how to do basic tasks\n",
    "* Robust ecosystem of scientific libraries, including powerful statistical and visualization packages\n",
    "* Large community of scientific users and large existing codebases\n",
    "* Major investment into Python ecosystem by Earth science research agencies, including NASA, NCAR, UK Met Office, and Lamont-Doherty Earth Observatory. For example, see [Pangeo](https://pangeo.io).\n",
    "\n",
    "---\n",
    "\n",
    "## Lesson Objectives\n",
    "\n",
    "* You will learn:\n",
    "    * The basics of using Jupyter Notebook\n",
    "    * Basic syntax of Python\n",
    "    * Data types, lists, and arrays\n",
    "    * Reading in ASCII data\n",
    "    * Filter data and calculate basic summary statistics\n",
    "    * Basic plotting and visualization\n",
    "   \n",
    "---\n",
    "\n"
   ]
  },
  {
   "cell_type": "markdown",
   "metadata": {},
   "source": [
    "## Using Jupyter Notebook for Python\n",
    "\n",
    "A Jupyter notebook allows you to easily run Python commands and check the output interactively. To run your Python code, type the code into a cell, highlight the cell, and either click the run button (►) or press the **Shift** and **Enter** keys.  \n",
    "\n",
    "Adding comments to your code is an important habit and essential for documenting and sharing work, so let's start doing that now."
   ]
  },
  {
   "cell_type": "code",
   "execution_count": 1,
   "metadata": {},
   "outputs": [
    {
     "name": "stdout",
     "output_type": "stream",
     "text": [
      "Hello MAS 331L!\n"
     ]
    }
   ],
   "source": [
    "# This is a comment, meant for a human. Python ignores it.\n",
    "print(\"Hello MAS 331L!\")"
   ]
  },
  {
   "cell_type": "markdown",
   "metadata": {},
   "source": [
    "A computer is a really big calculator.  You can use Python in this notebook just like a calculator.  What's one plus one?"
   ]
  },
  {
   "cell_type": "code",
   "execution_count": 2,
   "metadata": {},
   "outputs": [
    {
     "data": {
      "text/plain": [
       "2"
      ]
     },
     "execution_count": 2,
     "metadata": {},
     "output_type": "execute_result"
    }
   ],
   "source": [
    "#Do you need a comment here?  Maybe not, but do it anyway as good practice.\n",
    "1+1"
   ]
  },
  {
   "cell_type": "markdown",
   "metadata": {},
   "source": [
    "Here are some of Python's built in mathematical operators, and some commands you can run in the next cells.\n",
    "\n",
    "|Operator                           |Syntax|&nbsp;&nbsp;&nbsp;&nbsp;&nbsp;|Commands to run in the next cells|\n",
    "|:-----------                       |:----:|:-:                           |           :---:                 |\n",
    "|Addition                           | +    |                              |  6 + 2.0                        |\n",
    "|Subtraction                        | -    |                              |  3 - 1                          |\n",
    "|Multiplication                     |*     |                              |  2.8 * 82                       |\n",
    "|Division                           | /    |                              |  57 / 3                         |\n",
    "|Exponential                        | **   |                              |  2 ** 3                         |\n",
    "|Integer Division &nbsp;&nbsp;&nbsp;| //   |                              |  5 // 2                         |\n",
    "|Modulus                            | %    |                              |  5 % 2                          |"
   ]
  },
  {
   "cell_type": "markdown",
   "metadata": {},
   "source": [
    "---\n",
    "\n",
    "**Exercise 1:** \n",
    "\n",
    "Try the following to learn the basics of using Jupyter Notebook.\n",
    "1. Create a few new cells, some by using the menu and some with key commands.  (**Hint**: Insert, A, B)\n",
    "2. Figure out how to delete a cell using the menu or keyboard. (**Hint**: Edit, DD)\n",
    "3. Create new cells and try all of the commands above.\n",
    "4. Create a new cell and change it to Markdown, which is what I am using to type these instructions.  Say hello."
   ]
  },
  {
   "cell_type": "code",
   "execution_count": 3,
   "metadata": {
    "scrolled": true
   },
   "outputs": [
    {
     "data": {
      "text/plain": [
       "8.0"
      ]
     },
     "execution_count": 3,
     "metadata": {},
     "output_type": "execute_result"
    }
   ],
   "source": [
    "#I just added a Code cell...your turn for the rest\n",
    "6 + 2.0"
   ]
  },
  {
   "cell_type": "markdown",
   "metadata": {},
   "source": [
    "---\n",
    "## Saving your work\n",
    "\n",
    "Save your progress periodically by clicking the disk icon or selecting File : Save Notebook.  Closing Binder will delete all of our data.  \n",
    "\n",
    "**At the end of class, you will download your notebook with the completed exercises and turn it in as the lab assignment.**\n",
    "\n",
    "If you'd like, you can periodically save a copy to your local machine by doing File : Download.  This lab is not expected to crash, but anything is possible.  If you will try operations not covered in the notebook, we recommend that you download the notebook before doing so. \n",
    "\n",
    "**One more troubleshooting item:**\n",
    "\n",
    "If you run a cell and nothing happens, check the top right-hand corner of the notebook.  Binder 'turns off' or pauses our computer if it is idle or if something goes wrong.  If you see **No Kernel**, click 'No Kernel' and click the Select button in the popup window.\n",
    "\n",
    "---\n",
    "\n",
    "**Acknowledge the Following**\n",
    "\n",
    "Acknowledge that you understand the significance of ephemeral data, the procedure for submitting the lab assignment, and the requirement to comment code by cutting and pasting each of the following into the next three cells\n",
    "```\n",
    "#I understand that Binder will delete all of my data when I exit the notebook\n",
    "#I understand that after completing the exercises, I need to save a copy of the notebook to my local machine to submit as the lab assignment\n",
    "#I understand that I am expected to comment my code.\n",
    "```"
   ]
  },
  {
   "cell_type": "code",
   "execution_count": null,
   "metadata": {},
   "outputs": [],
   "source": []
  },
  {
   "cell_type": "code",
   "execution_count": null,
   "metadata": {},
   "outputs": [],
   "source": []
  },
  {
   "cell_type": "code",
   "execution_count": null,
   "metadata": {},
   "outputs": [],
   "source": []
  },
  {
   "cell_type": "markdown",
   "metadata": {},
   "source": [
    "---\n",
    "## Variables\n",
    "\n",
    "A variable stores a value.  For example, here, `c` is a variable:\n",
    "```\n",
    "c = 299792458\n",
    "```\n",
    "Variable names can contain only letters, digits, and underscores, and they are case sensitive. \n",
    "\n",
    "Choose variable names that actually describe the value they are holding. For example:\n",
    "```\n",
    "speed_of_light = 299792458\n",
    "```\n",
    "Intuitive variable names are key to writing clear, easy to read, reusable code.  \n",
    "\n",
    "**Next**: Define some variables!"
   ]
  },
  {
   "cell_type": "code",
   "execution_count": 4,
   "metadata": {},
   "outputs": [],
   "source": [
    "#Define a bunch of variables!\n",
    "var_int    = 8\n",
    "var_float  = 15.0\n",
    "var_4e8    = 4e8\n",
    "var_string = 'Hello MAS 331L!'"
   ]
  },
  {
   "cell_type": "markdown",
   "metadata": {},
   "source": [
    "Defining a variable will not return any output.  Add print statements to check values within a block of code."
   ]
  },
  {
   "cell_type": "markdown",
   "metadata": {},
   "source": [
    "**Exercise 3:** \n",
    "\n",
    "Fill in the next cell using print statements."
   ]
  },
  {
   "cell_type": "code",
   "execution_count": 5,
   "metadata": {},
   "outputs": [
    {
     "name": "stdout",
     "output_type": "stream",
     "text": [
      "8\n"
     ]
    }
   ],
   "source": [
    "#Add print statements to check the variables you set above.  \n",
    "#I'll do the first one, and you add the rest.\n",
    "print(var_int)\n",
    "#Your turn\n",
    "#"
   ]
  },
  {
   "cell_type": "markdown",
   "metadata": {},
   "source": [
    "---\n",
    "## Types\n",
    "\n",
    "Every variable has a type.  In some languages, the programmer has to *declare* the type *before* using the variable.  For example, in C:\n",
    "```\n",
    "int   my_id\n",
    "char  my_letter\n",
    "float speed_of_light\n",
    "```\n",
    "\n",
    "Python is 'dynamically typed', which means that you don't need to declare variables. Instead, Python will automatically guess the variable type based on what operations you are attempting to perform.  That said, you should have an awareness of basic variable types.\n",
    "\n",
    "- **Numbers**<br>\n",
    "&nbsp;&nbsp;`int`&nbsp;&nbsp;&nbsp;&nbsp;&nbsp;&nbsp;&nbsp; - an **integer** is a whole number, positive or negative<br>\n",
    "&nbsp;&nbsp;`float`&nbsp;&nbsp;&nbsp;    - a **[floating point number](https://en.wikipedia.org/wiki/Floating-point_arithmetic#Floating-point_numbers)** is a positive or negative number containing decimal digits<br><br>\n",
    "- **Characters** <br>\n",
    "&nbsp;&nbsp;`str` &nbsp;&nbsp;&nbsp;&nbsp;&nbsp;   - a **string** is a sequence of character data<br><br>\n",
    "- **Boolean** <br>\n",
    "&nbsp;&nbsp;`bool` &nbsp;&nbsp;    - a **boolean** is either True or False\n",
    "\n",
    "To check the type of a variable, use the `type()` function. Print out the types for the variables you declared earlier."
   ]
  },
  {
   "cell_type": "code",
   "execution_count": 6,
   "metadata": {},
   "outputs": [
    {
     "name": "stdout",
     "output_type": "stream",
     "text": [
      "<class 'int'>\n",
      "<class 'float'>\n",
      "<class 'float'>\n",
      "<class 'str'>\n"
     ]
    }
   ],
   "source": [
    "#Print out the variable types\n",
    "print(type(var_int))\n",
    "print(type(var_float))\n",
    "print(type(var_4e8))\n",
    "print(type(var_string))"
   ]
  },
  {
   "cell_type": "markdown",
   "metadata": {},
   "source": [
    "---\n",
    "## Functions"
   ]
  },
  {
   "cell_type": "markdown",
   "metadata": {},
   "source": [
    "Python has many built in functions, and the syntax is usually:\n",
    "\n",
    "```\n",
    "function_name(inputs)\n",
    "```\n",
    "We have already been using two functions: `print()` and `type()`. "
   ]
  },
  {
   "cell_type": "code",
   "execution_count": 7,
   "metadata": {},
   "outputs": [
    {
     "name": "stdout",
     "output_type": "stream",
     "text": [
      "Here comes a list of the types...\n"
     ]
    },
    {
     "data": {
      "text/plain": [
       "(int, float, float, str)"
      ]
     },
     "execution_count": 7,
     "metadata": {},
     "output_type": "execute_result"
    }
   ],
   "source": [
    "#Using functions print and type\n",
    "print(\"Here comes a list of the types...\")\n",
    "type(var_int),  type(var_float), type(var_4e8), type(var_string)"
   ]
  },
  {
   "cell_type": "markdown",
   "metadata": {},
   "source": [
    "---\n",
    "\n",
    "**Exercise 4:** \n",
    "1. Use `type()` to test if the following are floats or integers:\n",
    "    * 2+2\n",
    "    * 2\\*2.0\n",
    "    * var_float/var_int\n",
    "2. Try some mathematical operations on strings:\n",
    "    * \"Hello MAS 331L!\" + \"Peace Out.\"\n",
    "    * 4 * \"Happy\"\n",
    "    * 4 + \"Happy\"\n",
    "3. Use a Markdown cell or a code comment to say which thing didn't work and why.\n",
    "\n",
    "**Your Solutions:**"
   ]
  },
  {
   "cell_type": "code",
   "execution_count": null,
   "metadata": {},
   "outputs": [],
   "source": []
  },
  {
   "cell_type": "code",
   "execution_count": null,
   "metadata": {},
   "outputs": [],
   "source": []
  },
  {
   "cell_type": "code",
   "execution_count": null,
   "metadata": {},
   "outputs": [],
   "source": []
  },
  {
   "cell_type": "code",
   "execution_count": null,
   "metadata": {},
   "outputs": [],
   "source": []
  },
  {
   "cell_type": "code",
   "execution_count": null,
   "metadata": {},
   "outputs": [],
   "source": []
  },
  {
   "cell_type": "code",
   "execution_count": null,
   "metadata": {},
   "outputs": [],
   "source": []
  },
  {
   "cell_type": "code",
   "execution_count": null,
   "metadata": {},
   "outputs": [],
   "source": []
  },
  {
   "cell_type": "markdown",
   "metadata": {},
   "source": [
    "---\n",
    "## Working with Lists\n",
    "\n",
    "Lists are useful for storing data. Lists are made using square brackets. They can hold any data type (integers, floats, and strings) and even mixtures of the two."
   ]
  },
  {
   "cell_type": "code",
   "execution_count": 8,
   "metadata": {},
   "outputs": [],
   "source": [
    "#Define a list of integers\n",
    "numbers_list = [4, 8, 15, 16, 23]"
   ]
  },
  {
   "cell_type": "markdown",
   "metadata": {},
   "source": [
    "You can access elements of the list using the index. Python is zero based, so index 0 retrieves the first element."
   ]
  },
  {
   "cell_type": "code",
   "execution_count": 9,
   "metadata": {},
   "outputs": [
    {
     "data": {
      "text/plain": [
       "16"
      ]
     },
     "execution_count": 9,
     "metadata": {},
     "output_type": "execute_result"
    }
   ],
   "source": [
    "#Show the element with index 3\n",
    "numbers_list[3]"
   ]
  },
  {
   "cell_type": "markdown",
   "metadata": {},
   "source": [
    "New items can be appended to the list using the *append* function, which has the syntax:\n",
    "\n",
    "```\n",
    "variable.function(element(s))\n",
    "```\n",
    "The list will be updated *in-place*, which means the function will directly modify the list."
   ]
  },
  {
   "cell_type": "code",
   "execution_count": 10,
   "metadata": {},
   "outputs": [
    {
     "data": {
      "text/plain": [
       "[4, 8, 15, 16, 23, 42]"
      ]
     },
     "execution_count": 10,
     "metadata": {},
     "output_type": "execute_result"
    }
   ],
   "source": [
    "#Append a number to our list and show the result\n",
    "numbers_list.append(42)\n",
    "numbers_list"
   ]
  },
  {
   "cell_type": "markdown",
   "metadata": {},
   "source": [
    "Sometimes you would want to add the numbers in a list, element by element; however, the addition operator works differently on lists. For list objects, the **+** will *combine* lists. **To perform mathematical operations, you must convert a list to an array using the NumPy package.**"
   ]
  },
  {
   "cell_type": "markdown",
   "metadata": {},
   "source": [
    "---\n",
    "\n",
    "**Exercise 5:** \n",
    "1. Confirm that *numbers_list+numbers_list* does not add list items element by element, but appends a copy of itself.\n",
    "2. Try multiplying *numbers_list* by an integer number.\n",
    "3. Show only the first 4 elements of *numbers_list*. The syntax for taking a subset of a list is *[x:y]*.\n",
    "4. Append your name to the list.  A string has quotes, e.g. \"Bob\".  Display the resulting *numbers_list*.  Did it work?  \n",
    "\n",
    "**Your Solutions:**"
   ]
  },
  {
   "cell_type": "code",
   "execution_count": null,
   "metadata": {},
   "outputs": [],
   "source": []
  },
  {
   "cell_type": "code",
   "execution_count": null,
   "metadata": {},
   "outputs": [],
   "source": []
  },
  {
   "cell_type": "code",
   "execution_count": null,
   "metadata": {},
   "outputs": [],
   "source": []
  },
  {
   "cell_type": "code",
   "execution_count": null,
   "metadata": {},
   "outputs": [],
   "source": []
  },
  {
   "cell_type": "code",
   "execution_count": null,
   "metadata": {},
   "outputs": [],
   "source": []
  },
  {
   "cell_type": "markdown",
   "metadata": {},
   "source": [
    "---\n",
    "If you successfully added your name to our *numbers_list*, then it won't be just numbers.  Let's fix it before using it as a numerical array in the next section."
   ]
  },
  {
   "cell_type": "code",
   "execution_count": 11,
   "metadata": {},
   "outputs": [],
   "source": [
    "#Reset our array so it contains only numbers\n",
    "# or else it will give us errors in the next section\n",
    "numbers_list = [4, 8, 15, 16, 23, 42]"
   ]
  },
  {
   "cell_type": "markdown",
   "metadata": {},
   "source": [
    "---\n",
    "## Importing Packages\n",
    "\n",
    "Packages are collections of modules which help simplify common tasks. [NumPy](https://numpy.org/) is essential for mathematical operations and array manipulation.\n",
    "\n",
    "NumPy:\n",
    "* Creates high-performance multidimensional array objects and provides tools for working with these arrays.\n",
    "* Is a fundamental package for scientific computing with Python.\n",
    "* Is included with the Anaconda package manager.\n",
    "* For additional examples, please refer to the [the NumPy Quick Start](https://numpy.org/devdocs/user/quickstart.html).\n",
    "\n",
    "The basic syntax for importing packages is `import [package name]`. Some packages have long names.  You can use `import [package name] as [alias]` to avoid repeatedly typing that long name."
   ]
  },
  {
   "cell_type": "code",
   "execution_count": 12,
   "metadata": {},
   "outputs": [],
   "source": [
    "#Import the NumPy package and call it 'np'\n",
    "import numpy as np"
   ]
  },
  {
   "cell_type": "markdown",
   "metadata": {},
   "source": [
    "If you do not see any error after running the line above, then the package was successfully imported.  If you see an error, it probably means the package is not installed.\n",
    "\n",
    "---\n",
    "### Working with Arrays\n",
    "\n",
    "I can use NumPy’s array constructor `np.array()` to convert our list to a NumPy array in order to perform mathematical array operations on it. For example, I can double each element of the array:"
   ]
  },
  {
   "cell_type": "code",
   "execution_count": 13,
   "metadata": {},
   "outputs": [
    {
     "data": {
      "text/plain": [
       "array([ 8, 16, 30, 32, 46, 84])"
      ]
     },
     "execution_count": 13,
     "metadata": {},
     "output_type": "execute_result"
    }
   ],
   "source": [
    "#Use NumPy to convert the list into an array\n",
    "numbers_array = np.array(numbers_list)\n",
    "#Show the result of multiplying by 2\n",
    "numbers_array*2"
   ]
  },
  {
   "cell_type": "markdown",
   "metadata": {},
   "source": [
    "Another difference between arrays and lists is that lists can only be one-dimensional. NumPy can be any number of dimensions. For example, I can change the dimensions of the data using the `reshape()` function:"
   ]
  },
  {
   "cell_type": "code",
   "execution_count": 14,
   "metadata": {},
   "outputs": [
    {
     "data": {
      "text/plain": [
       "array([[ 4,  8],\n",
       "       [15, 16],\n",
       "       [23, 42]])"
      ]
     },
     "execution_count": 14,
     "metadata": {},
     "output_type": "execute_result"
    }
   ],
   "source": [
    "#Create a 2D array using the reshape function\n",
    "numbers_array_2d = numbers_array.reshape(3,2)\n",
    "#Display the result\n",
    "numbers_array_2d"
   ]
  },
  {
   "cell_type": "markdown",
   "metadata": {},
   "source": [
    "The `shape` attribute gives the dimensions of the new array."
   ]
  },
  {
   "cell_type": "code",
   "execution_count": 15,
   "metadata": {},
   "outputs": [
    {
     "data": {
      "text/plain": [
       "(3, 2)"
      ]
     },
     "execution_count": 15,
     "metadata": {},
     "output_type": "execute_result"
    }
   ],
   "source": [
    "#Display the dimensions of the new array.\n",
    "numbers_array_2d.shape"
   ]
  },
  {
   "cell_type": "markdown",
   "metadata": {},
   "source": [
    "The original *numbers_array* had a length of 6, and the new array has 3 rows and 2 columns."
   ]
  },
  {
   "cell_type": "markdown",
   "metadata": {},
   "source": [
    "---\n",
    "\n",
    "**Exercise 6:** \n",
    "1. Create a longer list, called *long_list*, by multiplying *numbers_list* by 5.\n",
    "2. Convert the list into a NumPy array, called *long_array*.\n",
    "3. Reshape *long_array* into a 2D array. \n",
    "4. Reshape *long_array* into a 3D array.\n",
    "\n",
    "**Note:** For 3 and 4, you will get errors unless the dimensions are compatible with the original array length.  Read the error and try again.\n",
    "\n",
    "**Your Solutions:**"
   ]
  },
  {
   "cell_type": "code",
   "execution_count": null,
   "metadata": {},
   "outputs": [],
   "source": []
  },
  {
   "cell_type": "code",
   "execution_count": null,
   "metadata": {},
   "outputs": [],
   "source": []
  },
  {
   "cell_type": "code",
   "execution_count": null,
   "metadata": {},
   "outputs": [],
   "source": []
  },
  {
   "cell_type": "code",
   "execution_count": null,
   "metadata": {},
   "outputs": [],
   "source": []
  },
  {
   "cell_type": "markdown",
   "metadata": {},
   "source": [
    "If you are having trouble with the above exercise, make sure *numbers_list* is set correctly, or just reset it here:"
   ]
  },
  {
   "cell_type": "code",
   "execution_count": 16,
   "metadata": {},
   "outputs": [],
   "source": [
    "#If you are having problems, you may need to reset the numbers_list\n",
    "numbers_list = [4, 8, 15, 16, 23, 42]"
   ]
  },
  {
   "cell_type": "markdown",
   "metadata": {},
   "source": [
    "### Why am I reshaping arrays??\n",
    "<p> Just to introduce NumPy.  Python will often return things as lists, and you can't perform mathematical operations on a list.  NumPy can take whatever weird data object you've been stuck with and transform it into something you can do science with.  NumPy mathematical functions are also lightning fast compared to the equivalent base Python funtions.</p>"
   ]
  },
  {
   "cell_type": "markdown",
   "metadata": {},
   "source": [
    "---\n",
    "### Reading ASCII Data\n",
    "\n",
    "The Pandas package has a function for reading text/ASCII data called `read_csv()`. Although the function appears to be meant for reading CSV files,  `read_csv` will read *any* delimited data using the `sep=*` keyword argument. Below, you will import the [Pandas](https://pandas.pydata.org/) package and read in a dataset. Note that the path below is relative to the current notebook and you may have to change the code if you are running in a different environment.\n",
    "\n",
    "```\n",
    "data/MB8J.csv\n",
    "```\n",
    "\n",
    "We will look at a data file containing daily temperature and salinity data."
   ]
  },
  {
   "cell_type": "code",
   "execution_count": 17,
   "metadata": {},
   "outputs": [],
   "source": [
    "#Import Pandas and alias it as 'pd'\n",
    "import pandas as pd"
   ]
  },
  {
   "cell_type": "markdown",
   "metadata": {},
   "source": [
    "This actually *is* a properly formatted CSV file, so the `sep=','` is not technically required.  The `engine='python'` ensures that the command will work across different operating systems."
   ]
  },
  {
   "cell_type": "code",
   "execution_count": 18,
   "metadata": {},
   "outputs": [],
   "source": [
    "#Defining the filename allows you to write code that can be reused with different files\n",
    "filename = \"data/MB8J.csv\"\n",
    "#Although not descriptive, df is used in R and Python for data frames \n",
    "# because it is short and will need be used and reused often during data cleaning\n",
    "df = pd.read_csv(filename, sep=',', engine='python')"
   ]
  },
  {
   "cell_type": "markdown",
   "metadata": {},
   "source": [
    "You can inspect the contents of the dataset using the `head()` function, which will return the first five rows of the dataset. Pandas automatically stores data in structures called *DataFrames*. DataFrames are two dimensional (rows and columns) and resemble a spreadsheet. The leftmost column is the row index and is not part of the dataset. "
   ]
  },
  {
   "cell_type": "code",
   "execution_count": 19,
   "metadata": {},
   "outputs": [
    {
     "data": {
      "text/html": [
       "<div>\n",
       "<style scoped>\n",
       "    .dataframe tbody tr th:only-of-type {\n",
       "        vertical-align: middle;\n",
       "    }\n",
       "\n",
       "    .dataframe tbody tr th {\n",
       "        vertical-align: top;\n",
       "    }\n",
       "\n",
       "    .dataframe thead th {\n",
       "        text-align: right;\n",
       "    }\n",
       "</style>\n",
       "<table border=\"1\" class=\"dataframe\">\n",
       "  <thead>\n",
       "    <tr style=\"text-align: right;\">\n",
       "      <th></th>\n",
       "      <th>CTD</th>\n",
       "      <th>Date</th>\n",
       "      <th>T-Surface</th>\n",
       "      <th>T-Bottom</th>\n",
       "      <th>S-Surface</th>\n",
       "      <th>S-Bottom</th>\n",
       "    </tr>\n",
       "  </thead>\n",
       "  <tbody>\n",
       "    <tr>\n",
       "      <th>0</th>\n",
       "      <td>MB8J</td>\n",
       "      <td>1/1/2019</td>\n",
       "      <td>19.418117</td>\n",
       "      <td>19.323412</td>\n",
       "      <td>8.746278</td>\n",
       "      <td>11.118851</td>\n",
       "    </tr>\n",
       "    <tr>\n",
       "      <th>1</th>\n",
       "      <td>NaN</td>\n",
       "      <td>1/2/2019</td>\n",
       "      <td>19.752113</td>\n",
       "      <td>19.416435</td>\n",
       "      <td>8.018461</td>\n",
       "      <td>11.788327</td>\n",
       "    </tr>\n",
       "    <tr>\n",
       "      <th>2</th>\n",
       "      <td>NaN</td>\n",
       "      <td>1/3/2019</td>\n",
       "      <td>19.865190</td>\n",
       "      <td>19.771955</td>\n",
       "      <td>10.140968</td>\n",
       "      <td>11.814590</td>\n",
       "    </tr>\n",
       "    <tr>\n",
       "      <th>3</th>\n",
       "      <td>NaN</td>\n",
       "      <td>1/4/2019</td>\n",
       "      <td>19.204679</td>\n",
       "      <td>19.229073</td>\n",
       "      <td>11.242235</td>\n",
       "      <td>11.247988</td>\n",
       "    </tr>\n",
       "    <tr>\n",
       "      <th>4</th>\n",
       "      <td>NaN</td>\n",
       "      <td>1/5/2019</td>\n",
       "      <td>16.833044</td>\n",
       "      <td>17.105726</td>\n",
       "      <td>8.877601</td>\n",
       "      <td>11.490634</td>\n",
       "    </tr>\n",
       "  </tbody>\n",
       "</table>\n",
       "</div>"
      ],
      "text/plain": [
       "    CTD      Date  T-Surface   T-Bottom  S-Surface   S-Bottom\n",
       "0  MB8J  1/1/2019  19.418117  19.323412   8.746278  11.118851\n",
       "1   NaN  1/2/2019  19.752113  19.416435   8.018461  11.788327\n",
       "2   NaN  1/3/2019  19.865190  19.771955  10.140968  11.814590\n",
       "3   NaN  1/4/2019  19.204679  19.229073  11.242235  11.247988\n",
       "4   NaN  1/5/2019  16.833044  17.105726   8.877601  11.490634"
      ]
     },
     "execution_count": 19,
     "metadata": {},
     "output_type": "execute_result"
    }
   ],
   "source": [
    "#Peek at the data\n",
    "df.head()"
   ]
  },
  {
   "cell_type": "markdown",
   "metadata": {},
   "source": [
    "The data contains a time series of bottom and surface temperature and salinity.  The column **CTD** has the name of the station in the first row, followed by nothing.  If you look in the original file with Excel, each row under **MB8J** is empty.  Empty cells are labeled `NaN` - Not a Number.\n",
    "\n",
    "You can extract a specific variable from the dataset by using the column name.  This is the time to choose a more descriptive variable name.  Let's extract the surface temperature and look at the first five rows."
   ]
  },
  {
   "cell_type": "code",
   "execution_count": 20,
   "metadata": {},
   "outputs": [
    {
     "data": {
      "text/plain": [
       "0    19.418117\n",
       "1    19.752113\n",
       "2    19.865190\n",
       "3    19.204679\n",
       "4    16.833044\n",
       "Name: T-Surface, dtype: float64"
      ]
     },
     "execution_count": 20,
     "metadata": {},
     "output_type": "execute_result"
    }
   ],
   "source": [
    "#Get the surface temperature and check the values\n",
    "temp_surf = df['T-Surface']\n",
    "temp_surf.head()"
   ]
  },
  {
   "cell_type": "markdown",
   "metadata": {},
   "source": [
    "Now that we have an array of numbers, we can do general statistics on it.  Check the min, max, and mean of the data."
   ]
  },
  {
   "cell_type": "code",
   "execution_count": 21,
   "metadata": {},
   "outputs": [
    {
     "data": {
      "text/plain": [
       "24.135902121257146"
      ]
     },
     "execution_count": 21,
     "metadata": {},
     "output_type": "execute_result"
    }
   ],
   "source": [
    "#Find min, max, and mean\n",
    "temp_surf.min()\n",
    "temp_surf.max()\n",
    "temp_surf.mean()"
   ]
  },
  {
   "cell_type": "markdown",
   "metadata": {},
   "source": [
    "Executing a block of code will only list the output of the **last** command, so we need to add some print statements.  Also, these statistics might come in handy, so let's save each of them to a variable."
   ]
  },
  {
   "cell_type": "code",
   "execution_count": 22,
   "metadata": {},
   "outputs": [
    {
     "name": "stdout",
     "output_type": "stream",
     "text": [
      "Tmin = 11.32288893 , Tmax = 32.76987648 , Tmean = 24.135902121257146\n"
     ]
    }
   ],
   "source": [
    "#Save the statistics to variables\n",
    "temp_surf_min = temp_surf.min()\n",
    "temp_surf_max = temp_surf.max()\n",
    "temp_surf_mean = temp_surf.mean()\n",
    "#Print them out in a way that is useful and easy to read\n",
    "print(\"Tmin =\",temp_surf_min,\", Tmax =\",temp_surf_max,\", Tmean =\",temp_surf_mean)"
   ]
  },
  {
   "cell_type": "markdown",
   "metadata": {},
   "source": [
    "Is it reasonable for *Tmean* to be written with such precision?  Do you ever hear the weather forecast to eight decimals?  Introducing the `round()` function.  When you are working with data, keep measurement uncertainty in mind when doing the calculations, and keep readability in mind when writing a general report. So, as a new reporter for [SeaTemperature.org](https://www.seatemperature.org/north-america/united-states/mobile.htm), I might do:"
   ]
  },
  {
   "cell_type": "code",
   "execution_count": 23,
   "metadata": {},
   "outputs": [
    {
     "name": "stdout",
     "output_type": "stream",
     "text": [
      "Surface Temperatures - Min: 11.3 Max: 32.8 Avg: 24.1\n"
     ]
    }
   ],
   "source": [
    "#One decimal is good enough for my boss...\n",
    "print(\"Surface Temperatures - Min:\",round(temp_surf_min,1),\"Max:\",round(temp_surf_max,1),\"Avg:\",round(temp_surf_mean,1))"
   ]
  },
  {
   "cell_type": "markdown",
   "metadata": {},
   "source": [
    "---\n",
    "\n",
    "**Exercise 7:** Give a report on the bottom temperature\n",
    "\n",
    "1. Get the bottom temperature and check the values\n",
    "2. Find min, max, and mean, and save to variables\n",
    "3. Print them out in a way that is useful and easy to read\n",
    "\n",
    "**Your Solutions:**"
   ]
  },
  {
   "cell_type": "code",
   "execution_count": null,
   "metadata": {},
   "outputs": [],
   "source": []
  },
  {
   "cell_type": "code",
   "execution_count": null,
   "metadata": {},
   "outputs": [],
   "source": []
  },
  {
   "cell_type": "code",
   "execution_count": null,
   "metadata": {},
   "outputs": [],
   "source": []
  },
  {
   "cell_type": "markdown",
   "metadata": {},
   "source": [
    "---\n",
    "### Filtering data\n",
    "\n",
    "When working with data, you may want to remove outliers or focus on a specific location or date range. For example, you may only want examine data below or above a certain threshold. You can subset the data using comparison operators:\n",
    "\n",
    "* less than: **<**\n",
    "* less than or equal to: **<=**\n",
    "* greater than: **>**\n",
    "* greater than or equal to: **>=**\n",
    "* equals: **==**\n",
    "* not equals: **!=**\n",
    "\n",
    "A comparison espression returns a True or False statement.  Here are some examples: "
   ]
  },
  {
   "cell_type": "code",
   "execution_count": 24,
   "metadata": {},
   "outputs": [
    {
     "data": {
      "text/plain": [
       "False"
      ]
     },
     "execution_count": 24,
     "metadata": {},
     "output_type": "execute_result"
    }
   ],
   "source": [
    "#True or False?\n",
    "\"Apples\" == \"Oranges\""
   ]
  },
  {
   "cell_type": "code",
   "execution_count": 25,
   "metadata": {},
   "outputs": [
    {
     "data": {
      "text/plain": [
       "False"
      ]
     },
     "execution_count": 25,
     "metadata": {},
     "output_type": "execute_result"
    }
   ],
   "source": [
    "#True or False?\n",
    "500 <= 1"
   ]
  },
  {
   "cell_type": "markdown",
   "metadata": {},
   "source": [
    "You can also use a comparison expression to define a variable.  The data type is called a 'boolean', and boolean values are either True or False."
   ]
  },
  {
   "cell_type": "code",
   "execution_count": 26,
   "metadata": {},
   "outputs": [
    {
     "name": "stdout",
     "output_type": "stream",
     "text": [
      "True\n",
      "<class 'bool'>\n"
     ]
    }
   ],
   "source": [
    "#True or False and what type?\n",
    "fruit = \"Apples\" != \"Oranges\"\n",
    "print(fruit)\n",
    "print(type(fruit))"
   ]
  },
  {
   "cell_type": "markdown",
   "metadata": {},
   "source": [
    "Comparison expressions may be combined using **and** (&) and **or** (|)."
   ]
  },
  {
   "cell_type": "code",
   "execution_count": 27,
   "metadata": {},
   "outputs": [
    {
     "data": {
      "text/plain": [
       "True"
      ]
     },
     "execution_count": 27,
     "metadata": {},
     "output_type": "execute_result"
    }
   ],
   "source": [
    "#Is 5 greater than 1 but less than 10?\n",
    "5 > 1 & 5 < 10"
   ]
  },
  {
   "cell_type": "markdown",
   "metadata": {},
   "source": [
    "Our data has temperature and salinity.  I don't like to swim unless the water is nearly bathtub temperature, and I don't care what the salinity is if I'm not swimming.  I can limit my dataset by creating a conditional expression such that the temperature is over 31&deg;C.  We use this conditional expression to create what is known as a 'mask', which can be used later to create a new dataset with only the data we are interested in."
   ]
  },
  {
   "cell_type": "code",
   "execution_count": 28,
   "metadata": {},
   "outputs": [
    {
     "name": "stdout",
     "output_type": "stream",
     "text": [
      "0      False\n",
      "1      False\n",
      "2      False\n",
      "3      False\n",
      "4      False\n",
      "       ...  \n",
      "345    False\n",
      "346    False\n",
      "347    False\n",
      "348    False\n",
      "349    False\n",
      "Name: T-Surface, Length: 350, dtype: bool\n"
     ]
    }
   ],
   "source": [
    "#Mask will be True for all values over 31\n",
    "#Recall: temp_surf = df['T-Surface']\n",
    "temp_mask = temp_surf  > 31\n",
    "#Only the first 5 and last 5 rows of df are shown\n",
    "print(temp_mask)"
   ]
  },
  {
   "cell_type": "markdown",
   "metadata": {},
   "source": [
    "Applying the mask to the original temperature dataset gives us the subset of temperature data we're interested in."
   ]
  },
  {
   "cell_type": "code",
   "execution_count": 29,
   "metadata": {},
   "outputs": [
    {
     "name": "stdout",
     "output_type": "stream",
     "text": [
      "154    31.002864\n",
      "176    31.302196\n",
      "177    31.704169\n",
      "178    31.421270\n",
      "181    31.217889\n",
      "         ...    \n",
      "260    31.768182\n",
      "261    31.357623\n",
      "275    31.072324\n",
      "276    31.348356\n",
      "277    31.318060\n",
      "Name: T-Surface, Length: 69, dtype: float64\n"
     ]
    }
   ],
   "source": [
    "#Just get the warmer water data\n",
    "warm_data = temp_surf[temp_mask]\n",
    "print(warm_data)"
   ]
  },
  {
   "cell_type": "markdown",
   "metadata": {},
   "source": [
    "How does my temperature preference affect the number of days I might go for a swim?  Use the `size` attribute to find out."
   ]
  },
  {
   "cell_type": "code",
   "execution_count": 30,
   "metadata": {},
   "outputs": [
    {
     "name": "stdout",
     "output_type": "stream",
     "text": [
      "I would only go swimming on  69 of the 350 dates included in this dataset.\n"
     ]
    }
   ],
   "source": [
    "#How often would I go swimming?\n",
    "print(\"I would only go swimming on \", warm_data.size,\"of the\", temp_surf.size, \"dates included in this dataset.\")"
   ]
  },
  {
   "cell_type": "markdown",
   "metadata": {},
   "source": [
    "---\n",
    "**Exercise 8: Your turn to filter some data**\n",
    "\n",
    "Starting from the original dataset `df`:\n",
    "    \n",
    "1. Create a mask that filters the surface temperature to 'perfect pool' temperatures (25 - 28&deg;C). **Hint:** Put parentheses around your conditional expressions.\n",
    "2. Apply your mask to the surface salinity taken from the original data set.\n",
    "3. Find the average surface salinity for 1) the entire dataset and 2) the 'perfect pool' dataset.\n",
    "4. Make a report summarizing your findings.\n",
    "\n",
    "**Your Solutions**"
   ]
  },
  {
   "cell_type": "code",
   "execution_count": null,
   "metadata": {},
   "outputs": [],
   "source": []
  },
  {
   "cell_type": "code",
   "execution_count": null,
   "metadata": {},
   "outputs": [],
   "source": []
  },
  {
   "cell_type": "code",
   "execution_count": null,
   "metadata": {},
   "outputs": [],
   "source": []
  },
  {
   "cell_type": "code",
   "execution_count": null,
   "metadata": {},
   "outputs": [],
   "source": []
  },
  {
   "cell_type": "markdown",
   "metadata": {},
   "source": [
    "----\n",
    "## Basic Figures and Plots\n",
    "\n",
    "For visualization with Python, folks use Matplotlib.  Here is what [Matplotlib](https://matplotlib.org) has to say about itself:\n",
    "\n",
    "<blockquote cite=\"https://matplotlib.org\">\n",
    "Matplotlib is a comprehensive library for creating static, animated, and interactive visualizations in Python. Matplotlib makes easy things easy and hard things possible.\n",
    "</blockquote>\n",
    "\n",
    "That sounds pretty good.  Let's try it out.  First, import the package.\n"
   ]
  },
  {
   "cell_type": "code",
   "execution_count": 31,
   "metadata": {},
   "outputs": [],
   "source": [
    "#import matplotlib, call it plt\n",
    "import matplotlib.pyplot as plt"
   ]
  },
  {
   "cell_type": "code",
   "execution_count": 32,
   "metadata": {},
   "outputs": [
    {
     "data": {
      "text/html": [
       "<div>\n",
       "<style scoped>\n",
       "    .dataframe tbody tr th:only-of-type {\n",
       "        vertical-align: middle;\n",
       "    }\n",
       "\n",
       "    .dataframe tbody tr th {\n",
       "        vertical-align: top;\n",
       "    }\n",
       "\n",
       "    .dataframe thead th {\n",
       "        text-align: right;\n",
       "    }\n",
       "</style>\n",
       "<table border=\"1\" class=\"dataframe\">\n",
       "  <thead>\n",
       "    <tr style=\"text-align: right;\">\n",
       "      <th></th>\n",
       "      <th>CTD</th>\n",
       "      <th>Date</th>\n",
       "      <th>T-Surface</th>\n",
       "      <th>T-Bottom</th>\n",
       "      <th>S-Surface</th>\n",
       "      <th>S-Bottom</th>\n",
       "    </tr>\n",
       "  </thead>\n",
       "  <tbody>\n",
       "    <tr>\n",
       "      <th>0</th>\n",
       "      <td>MB8J</td>\n",
       "      <td>1/1/2019</td>\n",
       "      <td>19.418117</td>\n",
       "      <td>19.323412</td>\n",
       "      <td>8.746278</td>\n",
       "      <td>11.118851</td>\n",
       "    </tr>\n",
       "    <tr>\n",
       "      <th>1</th>\n",
       "      <td>NaN</td>\n",
       "      <td>1/2/2019</td>\n",
       "      <td>19.752113</td>\n",
       "      <td>19.416435</td>\n",
       "      <td>8.018461</td>\n",
       "      <td>11.788327</td>\n",
       "    </tr>\n",
       "    <tr>\n",
       "      <th>2</th>\n",
       "      <td>NaN</td>\n",
       "      <td>1/3/2019</td>\n",
       "      <td>19.865190</td>\n",
       "      <td>19.771955</td>\n",
       "      <td>10.140968</td>\n",
       "      <td>11.814590</td>\n",
       "    </tr>\n",
       "    <tr>\n",
       "      <th>3</th>\n",
       "      <td>NaN</td>\n",
       "      <td>1/4/2019</td>\n",
       "      <td>19.204679</td>\n",
       "      <td>19.229073</td>\n",
       "      <td>11.242235</td>\n",
       "      <td>11.247988</td>\n",
       "    </tr>\n",
       "    <tr>\n",
       "      <th>4</th>\n",
       "      <td>NaN</td>\n",
       "      <td>1/5/2019</td>\n",
       "      <td>16.833044</td>\n",
       "      <td>17.105726</td>\n",
       "      <td>8.877601</td>\n",
       "      <td>11.490634</td>\n",
       "    </tr>\n",
       "  </tbody>\n",
       "</table>\n",
       "</div>"
      ],
      "text/plain": [
       "    CTD      Date  T-Surface   T-Bottom  S-Surface   S-Bottom\n",
       "0  MB8J  1/1/2019  19.418117  19.323412   8.746278  11.118851\n",
       "1   NaN  1/2/2019  19.752113  19.416435   8.018461  11.788327\n",
       "2   NaN  1/3/2019  19.865190  19.771955  10.140968  11.814590\n",
       "3   NaN  1/4/2019  19.204679  19.229073  11.242235  11.247988\n",
       "4   NaN  1/5/2019  16.833044  17.105726   8.877601  11.490634"
      ]
     },
     "execution_count": 32,
     "metadata": {},
     "output_type": "execute_result"
    }
   ],
   "source": [
    "#And I forget what our data looks like... \n",
    "df.head()"
   ]
  },
  {
   "cell_type": "markdown",
   "metadata": {},
   "source": [
    "---\n",
    "### Time series plots\n",
    "\n",
    "I have dates, and I have data.  Matplotlib has a `plot()` function. If Matplotlib lives up to it's hype, I can make a plot with no worries."
   ]
  },
  {
   "cell_type": "code",
   "execution_count": 33,
   "metadata": {},
   "outputs": [
    {
     "data": {
      "text/plain": [
       "[<matplotlib.lines.Line2D at 0x1753526d0>]"
      ]
     },
     "execution_count": 33,
     "metadata": {},
     "output_type": "execute_result"
    },
    {
     "data": {
      "image/png": "[encoded data removed]",
      "text/plain": [
       "<Figure size 640x480 with 1 Axes>"
      ]
     },
     "metadata": {},
     "output_type": "display_data"
    }
   ],
   "source": [
    "#Attempt a time series plot\n",
    "plt.plot(df[\"Date\"], df[\"T-Surface\"])"
   ]
  },
  {
   "cell_type": "markdown",
   "metadata": {},
   "source": [
    "So it is relatively easy to get a plot.  How about a **decent looking** plot?  If you take a look at the axes, the y axis looks normal and the x axis looks like garbage.  This is because of the date formatting.  We'll revisit date/time formatting in the next lab.  First, let's just try some simple formatting with other types of plots."
   ]
  },
  {
   "cell_type": "markdown",
   "metadata": {},
   "source": [
    "---\n",
    "### Histograms\n",
    "\n",
    "Let's try a histogram, which shows a count of how many data points have a certain range of values.  This time we will do some basic plot formatting.\n",
    "\n",
    "In Matplotlib, we create a blank canvas, we paint whatever we want, and when we're finished and ready, we show off our art.  Here is the beginner painting.\n",
    "1. `plt.figure()` creates a blank canvas with specified dimensions\n",
    "2. `plt.hist()` adds the histogram\n",
    "3. `plt.show()` completes and renders the plot"
   ]
  },
  {
   "cell_type": "code",
   "execution_count": 34,
   "metadata": {},
   "outputs": [
    {
     "data": {
      "image/png": "[encoded data removed]",
      "text/plain": [
       "<Figure size 500x500 with 1 Axes>"
      ]
     },
     "metadata": {},
     "output_type": "display_data"
    }
   ],
   "source": [
    "#Basic histogram of surface temperature\n",
    "plt.figure(figsize=[5,5])\n",
    "plt.hist(df[\"T-Surface\"])\n",
    "plt.show()"
   ]
  },
  {
   "cell_type": "markdown",
   "metadata": {},
   "source": [
    "For the next round, let's modify by:\n",
    "- Giving the histogram a bin number instead of using the default\n",
    "- Changing the color of the histogram\n",
    "- Adding x and y labels"
   ]
  },
  {
   "cell_type": "code",
   "execution_count": 35,
   "metadata": {},
   "outputs": [
    {
     "data": {
      "image/png": "[encoded data removed]",
      "text/plain": [
       "<Figure size 500x500 with 1 Axes>"
      ]
     },
     "metadata": {},
     "output_type": "display_data"
    }
   ],
   "source": [
    "#Refined histogram of surface temperature with labels\n",
    "plt.figure(figsize=[5,5])\n",
    "plt.hist(df[\"T-Surface\"],bins=30,color=\"purple\")\n",
    "#Google-search the special characters when you need them, like the degree symbol\n",
    "plt.xlabel('Surface Temperature($^\\circ$C)')\n",
    "plt.ylabel('Counts')\n",
    "plt.show()"
   ]
  },
  {
   "cell_type": "markdown",
   "metadata": {},
   "source": [
    "---\n",
    "### Box Plots\n",
    "\n",
    "Let's try a box plot.  A box plot, or box and whisker plot, displays the minimum, first quartile, median, third quartile, and maximum of a dataset.  Sometimes it also displays the outliers.\n",
    "\n",
    "I don't like a lonely box plot, so let's look at box plots of *all* the quantities.  This is where a list comes in handy.  Pass a list of the data to the boxplot function."
   ]
  },
  {
   "cell_type": "code",
   "execution_count": 36,
   "metadata": {
    "scrolled": true
   },
   "outputs": [
    {
     "data": {
      "image/png": "[encoded data removed]",
      "text/plain": [
       "<Figure size 500x500 with 1 Axes>"
      ]
     },
     "metadata": {},
     "output_type": "display_data"
    }
   ],
   "source": [
    "#Friendly box plots\n",
    "plt.figure(figsize=[5,5])\n",
    "#Create list of temperature data\n",
    "list_of_data = [df[\"T-Surface\"],df[\"T-Bottom\"],df[\"S-Surface\"],df[\"S-Bottom\"]]\n",
    "#And a list of labels\n",
    "list_of_labels = ['T-Surf','T-Bot','S-Surf','S-Bot']\n",
    "#Make the boxplots\n",
    "plt.boxplot(list_of_data,labels=list_of_labels)\n",
    "plt.show()"
   ]
  },
  {
   "cell_type": "markdown",
   "metadata": {},
   "source": [
    "---\n",
    "### Scatter plots\n",
    "\n",
    "And the good ole' scatter plot.  Let's make things interesting by adding a colormap.\n",
    "\n",
    "In the next plot, we:\n",
    "1. Import the colormap package.\n",
    "2. [Choose a colormap](https://matplotlib.org/stable/tutorials/colors/colormaps.html).  This example chooses 'Jet', popular to the masses and discouraged by visualization gurus.  Personally, I love rainbow dots.  \n",
    "3. Choose a variable to color by. Our colormap will change according to bottom temperature.\n",
    "4. Create a scatterplot of surface and bottom temperatures.\n",
    "\n",
    "In the scatterplot function:\n",
    "```\n",
    "plt.scatter(x, y, s, c, cmap, alpha)\n",
    "```\n",
    "- x = data position\n",
    "- y = data position \n",
    "- s = marker size\n",
    "- c = sequence of numbers to be mapped to colors\n",
    "- cmap = colormap\n",
    "- alpha = transparency, where opaque==1"
   ]
  },
  {
   "cell_type": "code",
   "execution_count": 37,
   "metadata": {},
   "outputs": [
    {
     "data": {
      "image/png": "[encoded data removed]",
      "text/plain": [
       "<Figure size 640x480 with 1 Axes>"
      ]
     },
     "metadata": {},
     "output_type": "display_data"
    }
   ],
   "source": [
    "#import colormap package\n",
    "import matplotlib.cm as cm\n",
    "\n",
    "#variable to color by, and the name of our colormap\n",
    "colorby = df['T-Bottom']\n",
    "colormap = 'jet_r'\n",
    "\n",
    "#Create a scatterplot of surface and bottom temperature and color by bottom temperature\n",
    "#Use big dots and make the dots semi-transparent\n",
    "plt.figure()\n",
    "plt.scatter(df['T-Bottom'], df['T-Surface'], s=25, c=colorby, cmap=colormap, alpha=0.3)\n",
    "plt.xlabel(\"Bottom Temperature($^\\circ$C)\")\n",
    "plt.ylabel(\"Surface Temperature($^\\circ$C)\")\n",
    "plt.show()"
   ]
  },
  {
   "cell_type": "markdown",
   "metadata": {},
   "source": [
    "---\n",
    "**Exercise 9:**  Create your own plot.\n",
    "\n",
    "- Recreate any of the plots above, but use different variables, modify the labels, and change attributes such as colors or colormap.\n",
    "\n",
    "**Optional:** \n",
    "\n",
    "If you have time and interest, try any of the following with the help of Google or the [Matplotlib](https://matplotlib.org/stable/plot_types/index.html) documentation.\n",
    "- Choose custom limits for the x and y ranges.\n",
    "- Add a title.\n",
    "- Show multiple plots in one figure.\n",
    "- Try different colormaps, and read a bit about choosing colormaps for accessibility. See for example: [Info on colorblindness](http://www.color-blindness.com) and [Python packages for choosing colormaps](https://cmasher.readthedocs.io).\n",
    "- Make a timeseries plot with reasonable x-axis labels, or simply remove the x-axis labels completely.  Add additional variables to the timeseries plot.  Choose different colors or symbols (e.g., dotted, dashed, etc.) for the different variables, and create a legend.\n",
    "\n",
    "**Your Solution:**"
   ]
  },
  {
   "cell_type": "code",
   "execution_count": null,
   "metadata": {},
   "outputs": [],
   "source": []
  },
  {
   "cell_type": "markdown",
   "metadata": {},
   "source": [
    "---\n",
    "\n",
    "## Turn in your lab\n",
    "Download your notebook with the completed exercises and turn it in as the lab assignment.\n"
   ]
  },
  {
   "cell_type": "markdown",
   "metadata": {},
   "source": [
    "---\n",
    "## Summary:\n",
    "\n",
    "* You have learned:\n",
    "    * The basics of using Jupyter Notebook\n",
    "    * Basic syntax of Python\n",
    "    * Data types, lists, and arrays\n",
    "    * Reading in ASCII data\n",
    "    * Filter data and calculate basic summary statistics\n",
    "    * Basic plotting and visualization\n",
    "   "
   ]
  },
  {
   "cell_type": "markdown",
   "metadata": {},
   "source": [
    "## Attribution\n",
    "\n",
    "Creating this lab was facilitated by using content from [AGU 2021 Python for Earth Sciences workshop](https://github.com/modern-tools-workshop/AGU-python-workshop-2021), developed and led by [Rebekah Esmaili](http://www.rebekahesmaili.com) (bekah@umd.edu), Research Scientist, STC/JPSS. We are grateful for Rebekah's generous support of Open Science and sharing all her hard work!"
   ]
  }
 ],
 "metadata": {
  "kernelspec": {
   "display_name": "Python 3 (ipykernel)",
   "language": "python",
   "name": "python3"
  },
  "language_info": {
   "codemirror_mode": {
    "name": "ipython",
    "version": 3
   },
   "file_extension": ".py",
   "mimetype": "text/x-python",
   "name": "python",
   "nbconvert_exporter": "python",
   "pygments_lexer": "ipython3",
   "version": "3.11.4"
  }
 },
 "nbformat": 4,
 "nbformat_minor": 4
}